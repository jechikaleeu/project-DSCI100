{
 "cells": [
  {
   "cell_type": "markdown",
   "id": "0001f392-53c5-4c93-9f72-d90404c1d0fe",
   "metadata": {},
   "source": [
    "# Group 24 Project Proposal\n",
    "Jessica Liu, April Cao, Nathan Lee, An Zhou"
   ]
  },
  {
   "cell_type": "markdown",
   "id": "53c7ac09-d2aa-4a9f-b6d6-b75c6e4add9b",
   "metadata": {},
   "source": [
    "## Introduction\n",
    "This dataset is a user knowledge model created by a novel  “Intuitive Knowledge Classifier” method. This method takes the distances among the students’ optimum weight value of different features on their knowledge class and determines students’ knowledge class by dissimilarities in the process. (Kahraman, 2012) In this project, we are going to predict a numeric value of exam performance (PEG) using the degree of study time, the degree of repetition number of the user, the degree of study time of related objects of the user, and the related objects exam performance of the user (STG, SCG, STR, and LPR respectively). The dataset we are using is in the form of an excel sheet. It contains 5 numerical values (STG, SCG, STR, LPR and PEG) and one categorical value (UNS)."
   ]
  },
  {
   "cell_type": "markdown",
   "id": "9df7ded6-460f-49d0-8ab0-2f52db6d9b3b",
   "metadata": {},
   "source": [
    "## Preliminary exploratory data analysis"
   ]
  },
  {
   "cell_type": "code",
   "execution_count": 1,
   "id": "caaee622-33b2-4988-90bb-fa6cae53176f",
   "metadata": {},
   "outputs": [
    {
     "name": "stderr",
     "output_type": "stream",
     "text": [
      "Installing package into ‘/home/jupyter/R/x86_64-pc-linux-gnu-library/4.1’\n",
      "(as ‘lib’ is unspecified)\n",
      "\n",
      "also installing the dependency ‘igraph’\n",
      "\n",
      "\n"
     ]
    }
   ],
   "source": [
    "#installing packages\n",
    "# install.packages(\"tidymodels\")\n",
    "# install.packages(\"readxl\")\n",
    "# install.packages(\"repr\")\n",
    "# install.packages(\"tidyverse\")\n",
    "# install.packages(\"psych\")\n",
    "# install.packages(\"digest\")\n",
    "# install.packages(\"kknn\")"
   ]
  },
  {
   "cell_type": "code",
   "execution_count": 2,
   "id": "1037a1e2-be8d-4623-beda-77296c008f9b",
   "metadata": {},
   "outputs": [
    {
     "name": "stderr",
     "output_type": "stream",
     "text": [
      "Warning message in system(\"timedatectl\", intern = TRUE):\n",
      "“running command 'timedatectl' had status 1”\n",
      "── \u001b[1mAttaching packages\u001b[22m ─────────────────────────────────────── tidyverse 1.3.1 ──\n",
      "\n",
      "\u001b[32m✔\u001b[39m \u001b[34mggplot2\u001b[39m 3.3.5     \u001b[32m✔\u001b[39m \u001b[34mpurrr  \u001b[39m 0.3.4\n",
      "\u001b[32m✔\u001b[39m \u001b[34mtibble \u001b[39m 3.1.7     \u001b[32m✔\u001b[39m \u001b[34mdplyr  \u001b[39m 1.0.9\n",
      "\u001b[32m✔\u001b[39m \u001b[34mtidyr  \u001b[39m 1.2.0     \u001b[32m✔\u001b[39m \u001b[34mstringr\u001b[39m 1.4.0\n",
      "\u001b[32m✔\u001b[39m \u001b[34mreadr  \u001b[39m 2.1.2     \u001b[32m✔\u001b[39m \u001b[34mforcats\u001b[39m 0.5.1\n",
      "\n",
      "── \u001b[1mConflicts\u001b[22m ────────────────────────────────────────── tidyverse_conflicts() ──\n",
      "\u001b[31m✖\u001b[39m \u001b[34mggplot2\u001b[39m::\u001b[32m%+%()\u001b[39m   masks \u001b[34mpsych\u001b[39m::%+%()\n",
      "\u001b[31m✖\u001b[39m \u001b[34mggplot2\u001b[39m::\u001b[32malpha()\u001b[39m masks \u001b[34mpsych\u001b[39m::alpha()\n",
      "\u001b[31m✖\u001b[39m \u001b[34mdplyr\u001b[39m::\u001b[32mfilter()\u001b[39m  masks \u001b[34mstats\u001b[39m::filter()\n",
      "\u001b[31m✖\u001b[39m \u001b[34mdplyr\u001b[39m::\u001b[32mlag()\u001b[39m     masks \u001b[34mstats\u001b[39m::lag()\n",
      "\n",
      "── \u001b[1mAttaching packages\u001b[22m ────────────────────────────────────── tidymodels 0.2.0 ──\n",
      "\n",
      "\u001b[32m✔\u001b[39m \u001b[34mbroom       \u001b[39m 0.7.12     \u001b[32m✔\u001b[39m \u001b[34mrsample     \u001b[39m 0.1.1 \n",
      "\u001b[32m✔\u001b[39m \u001b[34mdials       \u001b[39m 0.1.1      \u001b[32m✔\u001b[39m \u001b[34mtune        \u001b[39m 0.2.0 \n",
      "\u001b[32m✔\u001b[39m \u001b[34minfer       \u001b[39m 1.0.0      \u001b[32m✔\u001b[39m \u001b[34mworkflows   \u001b[39m 0.2.6 \n",
      "\u001b[32m✔\u001b[39m \u001b[34mmodeldata   \u001b[39m 0.1.1      \u001b[32m✔\u001b[39m \u001b[34mworkflowsets\u001b[39m 0.2.1 \n",
      "\u001b[32m✔\u001b[39m \u001b[34mparsnip     \u001b[39m 0.2.1      \u001b[32m✔\u001b[39m \u001b[34myardstick   \u001b[39m 1.0.0 \n",
      "\u001b[32m✔\u001b[39m \u001b[34mrecipes     \u001b[39m 0.2.0      \n",
      "\n",
      "── \u001b[1mConflicts\u001b[22m ───────────────────────────────────────── tidymodels_conflicts() ──\n",
      "\u001b[31m✖\u001b[39m \u001b[34mggplot2\u001b[39m::\u001b[32m%+%()\u001b[39m    masks \u001b[34mpsych\u001b[39m::%+%()\n",
      "\u001b[31m✖\u001b[39m \u001b[34mscales\u001b[39m::\u001b[32malpha()\u001b[39m   masks \u001b[34mggplot2\u001b[39m::alpha(), \u001b[34mpsych\u001b[39m::alpha()\n",
      "\u001b[31m✖\u001b[39m \u001b[34mscales\u001b[39m::\u001b[32mdiscard()\u001b[39m masks \u001b[34mpurrr\u001b[39m::discard()\n",
      "\u001b[31m✖\u001b[39m \u001b[34mdplyr\u001b[39m::\u001b[32mfilter()\u001b[39m   masks \u001b[34mstats\u001b[39m::filter()\n",
      "\u001b[31m✖\u001b[39m \u001b[34mrecipes\u001b[39m::\u001b[32mfixed()\u001b[39m  masks \u001b[34mstringr\u001b[39m::fixed()\n",
      "\u001b[31m✖\u001b[39m \u001b[34mdplyr\u001b[39m::\u001b[32mlag()\u001b[39m      masks \u001b[34mstats\u001b[39m::lag()\n",
      "\u001b[31m✖\u001b[39m \u001b[34myardstick\u001b[39m::\u001b[32mspec()\u001b[39m masks \u001b[34mreadr\u001b[39m::spec()\n",
      "\u001b[31m✖\u001b[39m \u001b[34mrecipes\u001b[39m::\u001b[32mstep()\u001b[39m   masks \u001b[34mstats\u001b[39m::step()\n",
      "\u001b[34m•\u001b[39m Use suppressPackageStartupMessages() to eliminate package startup messages\n",
      "\n"
     ]
    }
   ],
   "source": [
    "#libraries\n",
    "library(psych)\n",
    "library(tidyverse)\n",
    "library(repr)\n",
    "library(tidymodels)\n",
    "library(readxl)\n",
    "library(digest)\n",
    "library(kknn)"
   ]
  },
  {
   "cell_type": "code",
   "execution_count": 3,
   "id": "091f7f94-f1c1-455f-825a-8a53bae66f9d",
   "metadata": {},
   "outputs": [
    {
     "name": "stderr",
     "output_type": "stream",
     "text": [
      "\u001b[1m\u001b[22mNew names:\n",
      "\u001b[36m•\u001b[39m `` -> `...7`\n",
      "\u001b[36m•\u001b[39m `` -> `...8`\n"
     ]
    },
    {
     "data": {
      "text/html": [
       "<table class=\"dataframe\">\n",
       "<caption>A tibble: 6 × 6</caption>\n",
       "<thead>\n",
       "\t<tr><th scope=col>STG</th><th scope=col>SCG</th><th scope=col>STR</th><th scope=col>LPR</th><th scope=col>PEG</th><th scope=col>UNS</th></tr>\n",
       "\t<tr><th scope=col>&lt;dbl&gt;</th><th scope=col>&lt;dbl&gt;</th><th scope=col>&lt;dbl&gt;</th><th scope=col>&lt;dbl&gt;</th><th scope=col>&lt;dbl&gt;</th><th scope=col>&lt;chr&gt;</th></tr>\n",
       "</thead>\n",
       "<tbody>\n",
       "\t<tr><td>0.00</td><td>0.00</td><td>0.00</td><td>0.00</td><td>0.00</td><td>very_low</td></tr>\n",
       "\t<tr><td>0.08</td><td>0.08</td><td>0.10</td><td>0.24</td><td>0.90</td><td>High    </td></tr>\n",
       "\t<tr><td>0.06</td><td>0.06</td><td>0.05</td><td>0.25</td><td>0.33</td><td>Low     </td></tr>\n",
       "\t<tr><td>0.10</td><td>0.10</td><td>0.15</td><td>0.65</td><td>0.30</td><td>Middle  </td></tr>\n",
       "\t<tr><td>0.08</td><td>0.08</td><td>0.08</td><td>0.98</td><td>0.24</td><td>Low     </td></tr>\n",
       "\t<tr><td>0.09</td><td>0.15</td><td>0.40</td><td>0.10</td><td>0.66</td><td>Middle  </td></tr>\n",
       "</tbody>\n",
       "</table>\n"
      ],
      "text/latex": [
       "A tibble: 6 × 6\n",
       "\\begin{tabular}{llllll}\n",
       " STG & SCG & STR & LPR & PEG & UNS\\\\\n",
       " <dbl> & <dbl> & <dbl> & <dbl> & <dbl> & <chr>\\\\\n",
       "\\hline\n",
       "\t 0.00 & 0.00 & 0.00 & 0.00 & 0.00 & very\\_low\\\\\n",
       "\t 0.08 & 0.08 & 0.10 & 0.24 & 0.90 & High    \\\\\n",
       "\t 0.06 & 0.06 & 0.05 & 0.25 & 0.33 & Low     \\\\\n",
       "\t 0.10 & 0.10 & 0.15 & 0.65 & 0.30 & Middle  \\\\\n",
       "\t 0.08 & 0.08 & 0.08 & 0.98 & 0.24 & Low     \\\\\n",
       "\t 0.09 & 0.15 & 0.40 & 0.10 & 0.66 & Middle  \\\\\n",
       "\\end{tabular}\n"
      ],
      "text/markdown": [
       "\n",
       "A tibble: 6 × 6\n",
       "\n",
       "| STG &lt;dbl&gt; | SCG &lt;dbl&gt; | STR &lt;dbl&gt; | LPR &lt;dbl&gt; | PEG &lt;dbl&gt; | UNS &lt;chr&gt; |\n",
       "|---|---|---|---|---|---|\n",
       "| 0.00 | 0.00 | 0.00 | 0.00 | 0.00 | very_low |\n",
       "| 0.08 | 0.08 | 0.10 | 0.24 | 0.90 | High     |\n",
       "| 0.06 | 0.06 | 0.05 | 0.25 | 0.33 | Low      |\n",
       "| 0.10 | 0.10 | 0.15 | 0.65 | 0.30 | Middle   |\n",
       "| 0.08 | 0.08 | 0.08 | 0.98 | 0.24 | Low      |\n",
       "| 0.09 | 0.15 | 0.40 | 0.10 | 0.66 | Middle   |\n",
       "\n"
      ],
      "text/plain": [
       "  STG  SCG  STR  LPR  PEG  UNS     \n",
       "1 0.00 0.00 0.00 0.00 0.00 very_low\n",
       "2 0.08 0.08 0.10 0.24 0.90 High    \n",
       "3 0.06 0.06 0.05 0.25 0.33 Low     \n",
       "4 0.10 0.10 0.15 0.65 0.30 Middle  \n",
       "5 0.08 0.08 0.08 0.98 0.24 Low     \n",
       "6 0.09 0.15 0.40 0.10 0.66 Middle  "
      ]
     },
     "metadata": {},
     "output_type": "display_data"
    },
    {
     "name": "stderr",
     "output_type": "stream",
     "text": [
      "\u001b[1m\u001b[22mNew names:\n",
      "\u001b[36m•\u001b[39m `` -> `...7`\n",
      "\u001b[36m•\u001b[39m `` -> `...8`\n"
     ]
    },
    {
     "data": {
      "text/html": [
       "<table class=\"dataframe\">\n",
       "<caption>A tibble: 6 × 6</caption>\n",
       "<thead>\n",
       "\t<tr><th scope=col>STG</th><th scope=col>SCG</th><th scope=col>STR</th><th scope=col>LPR</th><th scope=col>PEG</th><th scope=col>UNS</th></tr>\n",
       "\t<tr><th scope=col>&lt;dbl&gt;</th><th scope=col>&lt;dbl&gt;</th><th scope=col>&lt;dbl&gt;</th><th scope=col>&lt;dbl&gt;</th><th scope=col>&lt;dbl&gt;</th><th scope=col>&lt;chr&gt;</th></tr>\n",
       "</thead>\n",
       "<tbody>\n",
       "\t<tr><td>0.00</td><td>0.10</td><td>0.50</td><td>0.26</td><td>0.05</td><td>Very Low</td></tr>\n",
       "\t<tr><td>0.05</td><td>0.05</td><td>0.55</td><td>0.60</td><td>0.14</td><td>Low     </td></tr>\n",
       "\t<tr><td>0.08</td><td>0.18</td><td>0.63</td><td>0.60</td><td>0.85</td><td>High    </td></tr>\n",
       "\t<tr><td>0.20</td><td>0.20</td><td>0.68</td><td>0.67</td><td>0.85</td><td>High    </td></tr>\n",
       "\t<tr><td>0.22</td><td>0.22</td><td>0.90</td><td>0.30</td><td>0.90</td><td>High    </td></tr>\n",
       "\t<tr><td>0.14</td><td>0.14</td><td>0.70</td><td>0.50</td><td>0.30</td><td>Low     </td></tr>\n",
       "</tbody>\n",
       "</table>\n"
      ],
      "text/latex": [
       "A tibble: 6 × 6\n",
       "\\begin{tabular}{llllll}\n",
       " STG & SCG & STR & LPR & PEG & UNS\\\\\n",
       " <dbl> & <dbl> & <dbl> & <dbl> & <dbl> & <chr>\\\\\n",
       "\\hline\n",
       "\t 0.00 & 0.10 & 0.50 & 0.26 & 0.05 & Very Low\\\\\n",
       "\t 0.05 & 0.05 & 0.55 & 0.60 & 0.14 & Low     \\\\\n",
       "\t 0.08 & 0.18 & 0.63 & 0.60 & 0.85 & High    \\\\\n",
       "\t 0.20 & 0.20 & 0.68 & 0.67 & 0.85 & High    \\\\\n",
       "\t 0.22 & 0.22 & 0.90 & 0.30 & 0.90 & High    \\\\\n",
       "\t 0.14 & 0.14 & 0.70 & 0.50 & 0.30 & Low     \\\\\n",
       "\\end{tabular}\n"
      ],
      "text/markdown": [
       "\n",
       "A tibble: 6 × 6\n",
       "\n",
       "| STG &lt;dbl&gt; | SCG &lt;dbl&gt; | STR &lt;dbl&gt; | LPR &lt;dbl&gt; | PEG &lt;dbl&gt; | UNS &lt;chr&gt; |\n",
       "|---|---|---|---|---|---|\n",
       "| 0.00 | 0.10 | 0.50 | 0.26 | 0.05 | Very Low |\n",
       "| 0.05 | 0.05 | 0.55 | 0.60 | 0.14 | Low      |\n",
       "| 0.08 | 0.18 | 0.63 | 0.60 | 0.85 | High     |\n",
       "| 0.20 | 0.20 | 0.68 | 0.67 | 0.85 | High     |\n",
       "| 0.22 | 0.22 | 0.90 | 0.30 | 0.90 | High     |\n",
       "| 0.14 | 0.14 | 0.70 | 0.50 | 0.30 | Low      |\n",
       "\n"
      ],
      "text/plain": [
       "  STG  SCG  STR  LPR  PEG  UNS     \n",
       "1 0.00 0.10 0.50 0.26 0.05 Very Low\n",
       "2 0.05 0.05 0.55 0.60 0.14 Low     \n",
       "3 0.08 0.18 0.63 0.60 0.85 High    \n",
       "4 0.20 0.20 0.68 0.67 0.85 High    \n",
       "5 0.22 0.22 0.90 0.30 0.90 High    \n",
       "6 0.14 0.14 0.70 0.50 0.30 Low     "
      ]
     },
     "metadata": {},
     "output_type": "display_data"
    }
   ],
   "source": [
    "#loading in data\n",
    "uk_train <- read_excel(\"data/user_knowledge_data.xls\", sheet = 2)\n",
    "uk_train <- uk_train %>%\n",
    "    select(STG:UNS)\n",
    "head(uk_train)\n",
    "\n",
    "uk_test <- read_excel(\"data/user_knowledge_data.xls\", sheet = 3)\n",
    "uk_test <- uk_test %>%\n",
    "    select(STG:UNS)\n",
    "head(uk_test)"
   ]
  },
  {
   "cell_type": "code",
   "execution_count": 4,
   "id": "b2fd8641-ee3f-40ea-bc3a-1bd3109a0d51",
   "metadata": {},
   "outputs": [
    {
     "data": {
      "text/html": [
       "<table class=\"dataframe\">\n",
       "<caption>A tibble: 6 × 6</caption>\n",
       "<thead>\n",
       "\t<tr><th scope=col>STG</th><th scope=col>SCG</th><th scope=col>STR</th><th scope=col>LPR</th><th scope=col>PEG</th><th scope=col>UNS</th></tr>\n",
       "\t<tr><th scope=col>&lt;dbl&gt;</th><th scope=col>&lt;dbl&gt;</th><th scope=col>&lt;dbl&gt;</th><th scope=col>&lt;dbl&gt;</th><th scope=col>&lt;dbl&gt;</th><th scope=col>&lt;chr&gt;</th></tr>\n",
       "</thead>\n",
       "<tbody>\n",
       "\t<tr><td>0.00</td><td>0.00</td><td>0.00</td><td>0.00</td><td>0.00</td><td>very_low</td></tr>\n",
       "\t<tr><td>0.08</td><td>0.08</td><td>0.10</td><td>0.24</td><td>0.90</td><td>High    </td></tr>\n",
       "\t<tr><td>0.06</td><td>0.06</td><td>0.05</td><td>0.25</td><td>0.33</td><td>Low     </td></tr>\n",
       "\t<tr><td>0.10</td><td>0.10</td><td>0.15</td><td>0.65</td><td>0.30</td><td>Middle  </td></tr>\n",
       "\t<tr><td>0.08</td><td>0.08</td><td>0.08</td><td>0.98</td><td>0.24</td><td>Low     </td></tr>\n",
       "\t<tr><td>0.09</td><td>0.15</td><td>0.40</td><td>0.10</td><td>0.66</td><td>Middle  </td></tr>\n",
       "</tbody>\n",
       "</table>\n"
      ],
      "text/latex": [
       "A tibble: 6 × 6\n",
       "\\begin{tabular}{llllll}\n",
       " STG & SCG & STR & LPR & PEG & UNS\\\\\n",
       " <dbl> & <dbl> & <dbl> & <dbl> & <dbl> & <chr>\\\\\n",
       "\\hline\n",
       "\t 0.00 & 0.00 & 0.00 & 0.00 & 0.00 & very\\_low\\\\\n",
       "\t 0.08 & 0.08 & 0.10 & 0.24 & 0.90 & High    \\\\\n",
       "\t 0.06 & 0.06 & 0.05 & 0.25 & 0.33 & Low     \\\\\n",
       "\t 0.10 & 0.10 & 0.15 & 0.65 & 0.30 & Middle  \\\\\n",
       "\t 0.08 & 0.08 & 0.08 & 0.98 & 0.24 & Low     \\\\\n",
       "\t 0.09 & 0.15 & 0.40 & 0.10 & 0.66 & Middle  \\\\\n",
       "\\end{tabular}\n"
      ],
      "text/markdown": [
       "\n",
       "A tibble: 6 × 6\n",
       "\n",
       "| STG &lt;dbl&gt; | SCG &lt;dbl&gt; | STR &lt;dbl&gt; | LPR &lt;dbl&gt; | PEG &lt;dbl&gt; | UNS &lt;chr&gt; |\n",
       "|---|---|---|---|---|---|\n",
       "| 0.00 | 0.00 | 0.00 | 0.00 | 0.00 | very_low |\n",
       "| 0.08 | 0.08 | 0.10 | 0.24 | 0.90 | High     |\n",
       "| 0.06 | 0.06 | 0.05 | 0.25 | 0.33 | Low      |\n",
       "| 0.10 | 0.10 | 0.15 | 0.65 | 0.30 | Middle   |\n",
       "| 0.08 | 0.08 | 0.08 | 0.98 | 0.24 | Low      |\n",
       "| 0.09 | 0.15 | 0.40 | 0.10 | 0.66 | Middle   |\n",
       "\n"
      ],
      "text/plain": [
       "  STG  SCG  STR  LPR  PEG  UNS     \n",
       "1 0.00 0.00 0.00 0.00 0.00 very_low\n",
       "2 0.08 0.08 0.10 0.24 0.90 High    \n",
       "3 0.06 0.06 0.05 0.25 0.33 Low     \n",
       "4 0.10 0.10 0.15 0.65 0.30 Middle  \n",
       "5 0.08 0.08 0.08 0.98 0.24 Low     \n",
       "6 0.09 0.15 0.40 0.10 0.66 Middle  "
      ]
     },
     "metadata": {},
     "output_type": "display_data"
    },
    {
     "data": {
      "text/html": [
       "<table class=\"dataframe\">\n",
       "<caption>A tibble: 6 × 6</caption>\n",
       "<thead>\n",
       "\t<tr><th scope=col>STG</th><th scope=col>SCG</th><th scope=col>STR</th><th scope=col>LPR</th><th scope=col>PEG</th><th scope=col>UNS</th></tr>\n",
       "\t<tr><th scope=col>&lt;dbl&gt;</th><th scope=col>&lt;dbl&gt;</th><th scope=col>&lt;dbl&gt;</th><th scope=col>&lt;dbl&gt;</th><th scope=col>&lt;dbl&gt;</th><th scope=col>&lt;chr&gt;</th></tr>\n",
       "</thead>\n",
       "<tbody>\n",
       "\t<tr><td>0.00</td><td>0.10</td><td>0.50</td><td>0.26</td><td>0.05</td><td>Very Low</td></tr>\n",
       "\t<tr><td>0.05</td><td>0.05</td><td>0.55</td><td>0.60</td><td>0.14</td><td>Low     </td></tr>\n",
       "\t<tr><td>0.08</td><td>0.18</td><td>0.63</td><td>0.60</td><td>0.85</td><td>High    </td></tr>\n",
       "\t<tr><td>0.20</td><td>0.20</td><td>0.68</td><td>0.67</td><td>0.85</td><td>High    </td></tr>\n",
       "\t<tr><td>0.22</td><td>0.22</td><td>0.90</td><td>0.30</td><td>0.90</td><td>High    </td></tr>\n",
       "\t<tr><td>0.14</td><td>0.14</td><td>0.70</td><td>0.50</td><td>0.30</td><td>Low     </td></tr>\n",
       "</tbody>\n",
       "</table>\n"
      ],
      "text/latex": [
       "A tibble: 6 × 6\n",
       "\\begin{tabular}{llllll}\n",
       " STG & SCG & STR & LPR & PEG & UNS\\\\\n",
       " <dbl> & <dbl> & <dbl> & <dbl> & <dbl> & <chr>\\\\\n",
       "\\hline\n",
       "\t 0.00 & 0.10 & 0.50 & 0.26 & 0.05 & Very Low\\\\\n",
       "\t 0.05 & 0.05 & 0.55 & 0.60 & 0.14 & Low     \\\\\n",
       "\t 0.08 & 0.18 & 0.63 & 0.60 & 0.85 & High    \\\\\n",
       "\t 0.20 & 0.20 & 0.68 & 0.67 & 0.85 & High    \\\\\n",
       "\t 0.22 & 0.22 & 0.90 & 0.30 & 0.90 & High    \\\\\n",
       "\t 0.14 & 0.14 & 0.70 & 0.50 & 0.30 & Low     \\\\\n",
       "\\end{tabular}\n"
      ],
      "text/markdown": [
       "\n",
       "A tibble: 6 × 6\n",
       "\n",
       "| STG &lt;dbl&gt; | SCG &lt;dbl&gt; | STR &lt;dbl&gt; | LPR &lt;dbl&gt; | PEG &lt;dbl&gt; | UNS &lt;chr&gt; |\n",
       "|---|---|---|---|---|---|\n",
       "| 0.00 | 0.10 | 0.50 | 0.26 | 0.05 | Very Low |\n",
       "| 0.05 | 0.05 | 0.55 | 0.60 | 0.14 | Low      |\n",
       "| 0.08 | 0.18 | 0.63 | 0.60 | 0.85 | High     |\n",
       "| 0.20 | 0.20 | 0.68 | 0.67 | 0.85 | High     |\n",
       "| 0.22 | 0.22 | 0.90 | 0.30 | 0.90 | High     |\n",
       "| 0.14 | 0.14 | 0.70 | 0.50 | 0.30 | Low      |\n",
       "\n"
      ],
      "text/plain": [
       "  STG  SCG  STR  LPR  PEG  UNS     \n",
       "1 0.00 0.10 0.50 0.26 0.05 Very Low\n",
       "2 0.05 0.05 0.55 0.60 0.14 Low     \n",
       "3 0.08 0.18 0.63 0.60 0.85 High    \n",
       "4 0.20 0.20 0.68 0.67 0.85 High    \n",
       "5 0.22 0.22 0.90 0.30 0.90 High    \n",
       "6 0.14 0.14 0.70 0.50 0.30 Low     "
      ]
     },
     "metadata": {},
     "output_type": "display_data"
    }
   ],
   "source": [
    "set.seed(2022) \n",
    "\n",
    "head(uk_train) #training set (75%)\n",
    "head(uk_test) #testing set (25%)"
   ]
  },
  {
   "cell_type": "code",
   "execution_count": 14,
   "id": "2ff5fb5b-0af4-42c8-8ba6-f1aa9536a5e5",
   "metadata": {},
   "outputs": [
    {
     "data": {
      "text/html": [
       "<table class=\"dataframe\">\n",
       "<caption>A psych: 6 × 13</caption>\n",
       "<thead>\n",
       "\t<tr><th></th><th scope=col>vars</th><th scope=col>n</th><th scope=col>mean</th><th scope=col>sd</th><th scope=col>median</th><th scope=col>trimmed</th><th scope=col>mad</th><th scope=col>min</th><th scope=col>max</th><th scope=col>range</th><th scope=col>skew</th><th scope=col>kurtosis</th><th scope=col>se</th></tr>\n",
       "\t<tr><th></th><th scope=col>&lt;int&gt;</th><th scope=col>&lt;dbl&gt;</th><th scope=col>&lt;dbl&gt;</th><th scope=col>&lt;dbl&gt;</th><th scope=col>&lt;dbl&gt;</th><th scope=col>&lt;dbl&gt;</th><th scope=col>&lt;dbl&gt;</th><th scope=col>&lt;dbl&gt;</th><th scope=col>&lt;dbl&gt;</th><th scope=col>&lt;dbl&gt;</th><th scope=col>&lt;dbl&gt;</th><th scope=col>&lt;dbl&gt;</th><th scope=col>&lt;dbl&gt;</th></tr>\n",
       "</thead>\n",
       "<tbody>\n",
       "\t<tr><th scope=row>STG</th><td>1</td><td>192</td><td>0.3760938</td><td>0.2184031</td><td>0.3275</td><td>0.3607792</td><td>0.2186835</td><td>0</td><td>0.99</td><td>0.99</td><td> 0.54454373</td><td>-0.3373834</td><td>0.01576188</td></tr>\n",
       "\t<tr><th scope=row>SCG</th><td>2</td><td>192</td><td>0.3593490</td><td>0.2155862</td><td>0.3025</td><td>0.3440584</td><td>0.1927380</td><td>0</td><td>0.90</td><td>0.90</td><td> 0.60527414</td><td>-0.4748388</td><td>0.01555860</td></tr>\n",
       "\t<tr><th scope=row>STR</th><td>3</td><td>192</td><td>0.4637240</td><td>0.2451729</td><td>0.4900</td><td>0.4681494</td><td>0.3039330</td><td>0</td><td>0.95</td><td>0.95</td><td>-0.09940560</td><td>-1.1252309</td><td>0.01769383</td></tr>\n",
       "\t<tr><th scope=row>LPR</th><td>4</td><td>192</td><td>0.4205729</td><td>0.2512340</td><td>0.3300</td><td>0.4079221</td><td>0.2372160</td><td>0</td><td>0.99</td><td>0.99</td><td> 0.44301227</td><td>-0.9867998</td><td>0.01813125</td></tr>\n",
       "\t<tr><th scope=row>PEG</th><td>5</td><td>192</td><td>0.4623594</td><td>0.2571863</td><td>0.4950</td><td>0.4599545</td><td>0.3187590</td><td>0</td><td>0.93</td><td>0.93</td><td> 0.08270868</td><td>-1.2572364</td><td>0.01856083</td></tr>\n",
       "\t<tr><th scope=row>UNS*</th><td>6</td><td>192</td><td>2.2864583</td><td>0.9413280</td><td>2.0000</td><td>2.2402597</td><td>1.4826000</td><td>1</td><td>4.00</td><td>3.00</td><td> 0.08143697</td><td>-1.0004643</td><td>0.06793450</td></tr>\n",
       "</tbody>\n",
       "</table>\n"
      ],
      "text/latex": [
       "A psych: 6 × 13\n",
       "\\begin{tabular}{r|lllllllllllll}\n",
       "  & vars & n & mean & sd & median & trimmed & mad & min & max & range & skew & kurtosis & se\\\\\n",
       "  & <int> & <dbl> & <dbl> & <dbl> & <dbl> & <dbl> & <dbl> & <dbl> & <dbl> & <dbl> & <dbl> & <dbl> & <dbl>\\\\\n",
       "\\hline\n",
       "\tSTG & 1 & 192 & 0.3760938 & 0.2184031 & 0.3275 & 0.3607792 & 0.2186835 & 0 & 0.99 & 0.99 &  0.54454373 & -0.3373834 & 0.01576188\\\\\n",
       "\tSCG & 2 & 192 & 0.3593490 & 0.2155862 & 0.3025 & 0.3440584 & 0.1927380 & 0 & 0.90 & 0.90 &  0.60527414 & -0.4748388 & 0.01555860\\\\\n",
       "\tSTR & 3 & 192 & 0.4637240 & 0.2451729 & 0.4900 & 0.4681494 & 0.3039330 & 0 & 0.95 & 0.95 & -0.09940560 & -1.1252309 & 0.01769383\\\\\n",
       "\tLPR & 4 & 192 & 0.4205729 & 0.2512340 & 0.3300 & 0.4079221 & 0.2372160 & 0 & 0.99 & 0.99 &  0.44301227 & -0.9867998 & 0.01813125\\\\\n",
       "\tPEG & 5 & 192 & 0.4623594 & 0.2571863 & 0.4950 & 0.4599545 & 0.3187590 & 0 & 0.93 & 0.93 &  0.08270868 & -1.2572364 & 0.01856083\\\\\n",
       "\tUNS* & 6 & 192 & 2.2864583 & 0.9413280 & 2.0000 & 2.2402597 & 1.4826000 & 1 & 4.00 & 3.00 &  0.08143697 & -1.0004643 & 0.06793450\\\\\n",
       "\\end{tabular}\n"
      ],
      "text/markdown": [
       "\n",
       "A psych: 6 × 13\n",
       "\n",
       "| <!--/--> | vars &lt;int&gt; | n &lt;dbl&gt; | mean &lt;dbl&gt; | sd &lt;dbl&gt; | median &lt;dbl&gt; | trimmed &lt;dbl&gt; | mad &lt;dbl&gt; | min &lt;dbl&gt; | max &lt;dbl&gt; | range &lt;dbl&gt; | skew &lt;dbl&gt; | kurtosis &lt;dbl&gt; | se &lt;dbl&gt; |\n",
       "|---|---|---|---|---|---|---|---|---|---|---|---|---|---|\n",
       "| STG | 1 | 192 | 0.3760938 | 0.2184031 | 0.3275 | 0.3607792 | 0.2186835 | 0 | 0.99 | 0.99 |  0.54454373 | -0.3373834 | 0.01576188 |\n",
       "| SCG | 2 | 192 | 0.3593490 | 0.2155862 | 0.3025 | 0.3440584 | 0.1927380 | 0 | 0.90 | 0.90 |  0.60527414 | -0.4748388 | 0.01555860 |\n",
       "| STR | 3 | 192 | 0.4637240 | 0.2451729 | 0.4900 | 0.4681494 | 0.3039330 | 0 | 0.95 | 0.95 | -0.09940560 | -1.1252309 | 0.01769383 |\n",
       "| LPR | 4 | 192 | 0.4205729 | 0.2512340 | 0.3300 | 0.4079221 | 0.2372160 | 0 | 0.99 | 0.99 |  0.44301227 | -0.9867998 | 0.01813125 |\n",
       "| PEG | 5 | 192 | 0.4623594 | 0.2571863 | 0.4950 | 0.4599545 | 0.3187590 | 0 | 0.93 | 0.93 |  0.08270868 | -1.2572364 | 0.01856083 |\n",
       "| UNS* | 6 | 192 | 2.2864583 | 0.9413280 | 2.0000 | 2.2402597 | 1.4826000 | 1 | 4.00 | 3.00 |  0.08143697 | -1.0004643 | 0.06793450 |\n",
       "\n"
      ],
      "text/plain": [
       "     vars n   mean      sd        median trimmed   mad       min max  range\n",
       "STG  1    192 0.3760938 0.2184031 0.3275 0.3607792 0.2186835 0   0.99 0.99 \n",
       "SCG  2    192 0.3593490 0.2155862 0.3025 0.3440584 0.1927380 0   0.90 0.90 \n",
       "STR  3    192 0.4637240 0.2451729 0.4900 0.4681494 0.3039330 0   0.95 0.95 \n",
       "LPR  4    192 0.4205729 0.2512340 0.3300 0.4079221 0.2372160 0   0.99 0.99 \n",
       "PEG  5    192 0.4623594 0.2571863 0.4950 0.4599545 0.3187590 0   0.93 0.93 \n",
       "UNS* 6    192 2.2864583 0.9413280 2.0000 2.2402597 1.4826000 1   4.00 3.00 \n",
       "     skew        kurtosis   se        \n",
       "STG   0.54454373 -0.3373834 0.01576188\n",
       "SCG   0.60527414 -0.4748388 0.01555860\n",
       "STR  -0.09940560 -1.1252309 0.01769383\n",
       "LPR   0.44301227 -0.9867998 0.01813125\n",
       "PEG   0.08270868 -1.2572364 0.01856083\n",
       "UNS*  0.08143697 -1.0004643 0.06793450"
      ]
     },
     "metadata": {},
     "output_type": "display_data"
    }
   ],
   "source": [
    "#summary table\n",
    "#via https://www.statology.org/summary-table-in-r/#:~:text=The%20easiest%20way%20to%20create%20summary%20tables%20in%20R%20is,functions%20from%20the%20psych%20library.\n",
    "uk_train_summary <- describe(uk_train)\n",
    "uk_train_summary"
   ]
  },
  {
   "cell_type": "code",
   "execution_count": 13,
   "id": "f2dbf465-c4da-4c65-86bf-2ea1ede394e5",
   "metadata": {},
   "outputs": [
    {
     "data": {
      "image/png": "[encoded data removed]",
      "text/plain": [
       "plot without title"
      ]
     },
     "metadata": {
      "image/png": {
       "height": 420,
       "width": 420
      }
     },
     "output_type": "display_data"
    },
    {
     "data": {
      "image/png": "[encoded data removed]",
      "text/plain": [
       "plot without title"
      ]
     },
     "metadata": {
      "image/png": {
       "height": 420,
       "width": 420
      }
     },
     "output_type": "display_data"
    },
    {
     "data": {
      "image/png": "[encoded data removed]",
      "text/plain": [
       "plot without title"
      ]
     },
     "metadata": {
      "image/png": {
       "height": 420,
       "width": 420
      }
     },
     "output_type": "display_data"
    },
    {
     "data": {
      "image/png": "[encoded data removed]",
      "text/plain": [
       "plot without title"
      ]
     },
     "metadata": {
      "image/png": {
       "height": 420,
       "width": 420
      }
     },
     "output_type": "display_data"
    }
   ],
   "source": [
    "# plots (response variable vs. predictor)\n",
    "stgpeg_plot <- uk_train %>%\n",
    "    ggplot(aes(x = STG, y = PEG)) +\n",
    "    geom_point() +\n",
    "    ggtitle(\"PEG vs STG (figure 2)\")\n",
    "stgpeg_plot\n",
    "\n",
    "scgpeg_plot <- uk_train %>%\n",
    "    ggplot(aes(x = SCG, y = PEG)) +\n",
    "    geom_point()+\n",
    "    ggtitle(\"PEG vs SCG (figure 3)\")\n",
    "scgpeg_plot\n",
    "\n",
    "strpeg_plot <- uk_train %>%\n",
    "    ggplot(aes(x = STR, y = PEG)) +\n",
    "    geom_point()+\n",
    "    ggtitle(\"PEG vs STR (figure 4)\")\n",
    "strpeg_plot\n",
    "\n",
    "lprpeg_plot <- uk_train %>%\n",
    "    ggplot(aes(x = LPR, y = PEG)) +\n",
    "    geom_point()+\n",
    "    ggtitle(\"PEG vs LPR (figure 5)\")\n",
    "lprpeg_plot"
   ]
  },
  {
   "cell_type": "markdown",
   "id": "a4a188aa-e1de-40fa-92cd-3ac3c675a02b",
   "metadata": {},
   "source": [
    "## Methods\n",
    "After reading and tidying the data, we split it into 75% training data and 25% testing data to make better predictors and accurate predictions. We will start with a regression analysis to predict exam performance (PEG) using the study time (STG) and the repetition number (SCG) as predictors.  Using the training data, we are going to tune the model first to find the optimal K and avoid underfitting/overfitting issues. A scatter plot with STG on the x-axis, SCG on the y-axis, and PEG as colour/shape will be created to visualize the relationship. Since PEG is classified as a double (dbl), we will have to partition the PEG values into quarters (e,g, 0-0.25) to be able to assign the column as a colour. \n",
    "\n",
    "Next, STG, SCG, STR, and LPR will be used as predictors for exam performance. This will answer the question, “do students who spend more time studying, use a high degree of repetition, and have a stronger understanding of related materials score higher on their goal objects exam?"
   ]
  },
  {
   "cell_type": "code",
   "execution_count": 8,
   "id": "1a92de39-c2be-4af8-9f63-52f160b508db",
   "metadata": {},
   "outputs": [
    {
     "data": {
      "text/plain": [
       "K-Nearest Neighbor Model Specification (regression)\n",
       "\n",
       "Main Arguments:\n",
       "  neighbors = tune()\n",
       "  weight_func = rectangular\n",
       "\n",
       "Computational engine: kknn \n"
      ]
     },
     "metadata": {},
     "output_type": "display_data"
    },
    {
     "data": {
      "text/plain": [
       "Recipe\n",
       "\n",
       "Inputs:\n",
       "\n",
       "      role #variables\n",
       "   outcome          1\n",
       " predictor          4\n",
       "\n",
       "Operations:\n",
       "\n",
       "Scaling for all_predictors()\n",
       "Centering for all_predictors()"
      ]
     },
     "metadata": {},
     "output_type": "display_data"
    }
   ],
   "source": [
    "# create model specification\n",
    "uk_spec <- nearest_neighbor(weight_func = \"rectangular\", neighbors = tune()) %>% \n",
    "       set_engine(\"kknn\") %>%\n",
    "       set_mode(\"regression\") \n",
    "uk_spec\n",
    "\n",
    "# create the recipe\n",
    "uk_recipe <- recipe(PEG ~ STG + SCG + STR + LPR, data = uk_train) %>%\n",
    "       step_scale(all_predictors()) %>%\n",
    "       step_center(all_predictors())\n",
    "uk_recipe"
   ]
  },
  {
   "cell_type": "code",
   "execution_count": 9,
   "id": "5dad9484-85de-453a-8296-dc2a0359c2c2",
   "metadata": {},
   "outputs": [
    {
     "data": {
      "text/html": [
       "<table class=\"dataframe\">\n",
       "<caption>A tibble: 6 × 1</caption>\n",
       "<thead>\n",
       "\t<tr><th scope=col>neighbors</th></tr>\n",
       "\t<tr><th scope=col>&lt;int&gt;</th></tr>\n",
       "</thead>\n",
       "<tbody>\n",
       "\t<tr><td>1</td></tr>\n",
       "\t<tr><td>2</td></tr>\n",
       "\t<tr><td>3</td></tr>\n",
       "\t<tr><td>4</td></tr>\n",
       "\t<tr><td>5</td></tr>\n",
       "\t<tr><td>6</td></tr>\n",
       "</tbody>\n",
       "</table>\n"
      ],
      "text/latex": [
       "A tibble: 6 × 1\n",
       "\\begin{tabular}{l}\n",
       " neighbors\\\\\n",
       " <int>\\\\\n",
       "\\hline\n",
       "\t 1\\\\\n",
       "\t 2\\\\\n",
       "\t 3\\\\\n",
       "\t 4\\\\\n",
       "\t 5\\\\\n",
       "\t 6\\\\\n",
       "\\end{tabular}\n"
      ],
      "text/markdown": [
       "\n",
       "A tibble: 6 × 1\n",
       "\n",
       "| neighbors &lt;int&gt; |\n",
       "|---|\n",
       "| 1 |\n",
       "| 2 |\n",
       "| 3 |\n",
       "| 4 |\n",
       "| 5 |\n",
       "| 6 |\n",
       "\n"
      ],
      "text/plain": [
       "  neighbors\n",
       "1 1        \n",
       "2 2        \n",
       "3 3        \n",
       "4 4        \n",
       "5 5        \n",
       "6 6        "
      ]
     },
     "metadata": {},
     "output_type": "display_data"
    },
    {
     "data": {
      "text/html": [
       "<table class=\"dataframe\">\n",
       "<caption>A tibble: 6 × 7</caption>\n",
       "<thead>\n",
       "\t<tr><th scope=col>neighbors</th><th scope=col>.metric</th><th scope=col>.estimator</th><th scope=col>mean</th><th scope=col>n</th><th scope=col>std_err</th><th scope=col>.config</th></tr>\n",
       "\t<tr><th scope=col>&lt;int&gt;</th><th scope=col>&lt;chr&gt;</th><th scope=col>&lt;chr&gt;</th><th scope=col>&lt;dbl&gt;</th><th scope=col>&lt;int&gt;</th><th scope=col>&lt;dbl&gt;</th><th scope=col>&lt;chr&gt;</th></tr>\n",
       "</thead>\n",
       "<tbody>\n",
       "\t<tr><td>1</td><td>rmse</td><td>standard</td><td>0.31152428</td><td>5</td><td>0.009989143</td><td>Preprocessor1_Model01</td></tr>\n",
       "\t<tr><td>1</td><td>rsq </td><td>standard</td><td>0.06278288</td><td>5</td><td>0.020524051</td><td>Preprocessor1_Model01</td></tr>\n",
       "\t<tr><td>2</td><td>rmse</td><td>standard</td><td>0.26937458</td><td>5</td><td>0.002373659</td><td>Preprocessor1_Model02</td></tr>\n",
       "\t<tr><td>2</td><td>rsq </td><td>standard</td><td>0.08595164</td><td>5</td><td>0.012937212</td><td>Preprocessor1_Model02</td></tr>\n",
       "\t<tr><td>3</td><td>rmse</td><td>standard</td><td>0.25421486</td><td>5</td><td>0.008325019</td><td>Preprocessor1_Model03</td></tr>\n",
       "\t<tr><td>3</td><td>rsq </td><td>standard</td><td>0.11528242</td><td>5</td><td>0.038134794</td><td>Preprocessor1_Model03</td></tr>\n",
       "</tbody>\n",
       "</table>\n"
      ],
      "text/latex": [
       "A tibble: 6 × 7\n",
       "\\begin{tabular}{lllllll}\n",
       " neighbors & .metric & .estimator & mean & n & std\\_err & .config\\\\\n",
       " <int> & <chr> & <chr> & <dbl> & <int> & <dbl> & <chr>\\\\\n",
       "\\hline\n",
       "\t 1 & rmse & standard & 0.31152428 & 5 & 0.009989143 & Preprocessor1\\_Model01\\\\\n",
       "\t 1 & rsq  & standard & 0.06278288 & 5 & 0.020524051 & Preprocessor1\\_Model01\\\\\n",
       "\t 2 & rmse & standard & 0.26937458 & 5 & 0.002373659 & Preprocessor1\\_Model02\\\\\n",
       "\t 2 & rsq  & standard & 0.08595164 & 5 & 0.012937212 & Preprocessor1\\_Model02\\\\\n",
       "\t 3 & rmse & standard & 0.25421486 & 5 & 0.008325019 & Preprocessor1\\_Model03\\\\\n",
       "\t 3 & rsq  & standard & 0.11528242 & 5 & 0.038134794 & Preprocessor1\\_Model03\\\\\n",
       "\\end{tabular}\n"
      ],
      "text/markdown": [
       "\n",
       "A tibble: 6 × 7\n",
       "\n",
       "| neighbors &lt;int&gt; | .metric &lt;chr&gt; | .estimator &lt;chr&gt; | mean &lt;dbl&gt; | n &lt;int&gt; | std_err &lt;dbl&gt; | .config &lt;chr&gt; |\n",
       "|---|---|---|---|---|---|---|\n",
       "| 1 | rmse | standard | 0.31152428 | 5 | 0.009989143 | Preprocessor1_Model01 |\n",
       "| 1 | rsq  | standard | 0.06278288 | 5 | 0.020524051 | Preprocessor1_Model01 |\n",
       "| 2 | rmse | standard | 0.26937458 | 5 | 0.002373659 | Preprocessor1_Model02 |\n",
       "| 2 | rsq  | standard | 0.08595164 | 5 | 0.012937212 | Preprocessor1_Model02 |\n",
       "| 3 | rmse | standard | 0.25421486 | 5 | 0.008325019 | Preprocessor1_Model03 |\n",
       "| 3 | rsq  | standard | 0.11528242 | 5 | 0.038134794 | Preprocessor1_Model03 |\n",
       "\n"
      ],
      "text/plain": [
       "  neighbors .metric .estimator mean       n std_err     .config              \n",
       "1 1         rmse    standard   0.31152428 5 0.009989143 Preprocessor1_Model01\n",
       "2 1         rsq     standard   0.06278288 5 0.020524051 Preprocessor1_Model01\n",
       "3 2         rmse    standard   0.26937458 5 0.002373659 Preprocessor1_Model02\n",
       "4 2         rsq     standard   0.08595164 5 0.012937212 Preprocessor1_Model02\n",
       "5 3         rmse    standard   0.25421486 5 0.008325019 Preprocessor1_Model03\n",
       "6 3         rsq     standard   0.11528242 5 0.038134794 Preprocessor1_Model03"
      ]
     },
     "metadata": {},
     "output_type": "display_data"
    }
   ],
   "source": [
    "# cross-validation\n",
    "uk_vfold <- vfold_cv(uk_train, v = 5, strata = PEG)\n",
    "\n",
    "gridvals <- tibble(neighbors = seq(1, 80))\n",
    "head(gridvals)\n",
    "\n",
    "uk_workflow <- workflow() %>%\n",
    "    add_recipe(uk_recipe) %>%\n",
    "    add_model(uk_spec)%>%\n",
    "    tune_grid(resamples = uk_vfold, grid = gridvals) %>%\n",
    "    collect_metrics()\n",
    "\n",
    "head(uk_workflow)"
   ]
  },
  {
   "cell_type": "code",
   "execution_count": 10,
   "id": "9fd221a6-6643-4ddd-a671-8177d7c38a37",
   "metadata": {},
   "outputs": [
    {
     "data": {
      "text/html": [
       "41"
      ],
      "text/latex": [
       "41"
      ],
      "text/markdown": [
       "41"
      ],
      "text/plain": [
       "[1] 41"
      ]
     },
     "metadata": {},
     "output_type": "display_data"
    },
    {
     "data": {
      "text/html": [
       "<table class=\"dataframe\">\n",
       "<caption>A tibble: 3 × 3</caption>\n",
       "<thead>\n",
       "\t<tr><th scope=col>.metric</th><th scope=col>.estimator</th><th scope=col>.estimate</th></tr>\n",
       "\t<tr><th scope=col>&lt;chr&gt;</th><th scope=col>&lt;chr&gt;</th><th scope=col>&lt;dbl&gt;</th></tr>\n",
       "</thead>\n",
       "<tbody>\n",
       "\t<tr><td>rmse</td><td>standard</td><td>0.30693940</td></tr>\n",
       "\t<tr><td>rsq </td><td>standard</td><td>0.01196322</td></tr>\n",
       "\t<tr><td>mae </td><td>standard</td><td>0.26523650</td></tr>\n",
       "</tbody>\n",
       "</table>\n"
      ],
      "text/latex": [
       "A tibble: 3 × 3\n",
       "\\begin{tabular}{lll}\n",
       " .metric & .estimator & .estimate\\\\\n",
       " <chr> & <chr> & <dbl>\\\\\n",
       "\\hline\n",
       "\t rmse & standard & 0.30693940\\\\\n",
       "\t rsq  & standard & 0.01196322\\\\\n",
       "\t mae  & standard & 0.26523650\\\\\n",
       "\\end{tabular}\n"
      ],
      "text/markdown": [
       "\n",
       "A tibble: 3 × 3\n",
       "\n",
       "| .metric &lt;chr&gt; | .estimator &lt;chr&gt; | .estimate &lt;dbl&gt; |\n",
       "|---|---|---|\n",
       "| rmse | standard | 0.30693940 |\n",
       "| rsq  | standard | 0.01196322 |\n",
       "| mae  | standard | 0.26523650 |\n",
       "\n"
      ],
      "text/plain": [
       "  .metric .estimator .estimate \n",
       "1 rmse    standard   0.30693940\n",
       "2 rsq     standard   0.01196322\n",
       "3 mae     standard   0.26523650"
      ]
     },
     "metadata": {},
     "output_type": "display_data"
    }
   ],
   "source": [
    "# find k parameter with smallest rmse\n",
    "uk_min <- uk_workflow %>%\n",
    "    filter(.metric == \"rmse\") %>%\n",
    "    arrange(mean) %>% \n",
    "    slice(1) %>%\n",
    "    pull(neighbors)\n",
    "\n",
    "uk_min\n",
    "\n",
    "uk_best_spec <- nearest_neighbor(weight_func = \"rectangular\", neighbors = uk_min) %>%\n",
    "          set_engine(\"kknn\") %>%\n",
    "          set_mode(\"regression\")\n",
    "\n",
    "uk_best_fit <- workflow() %>%\n",
    "          add_recipe(uk_recipe) %>%\n",
    "          add_model(uk_best_spec) %>%\n",
    "          fit(data = uk_train)\n",
    "\n",
    "uk_summary <- uk_best_fit %>%\n",
    "           predict(uk_test) %>%\n",
    "           bind_cols(uk_test) %>%\n",
    "           metrics(truth = PEG, estimate = .pred)\n",
    "uk_summary"
   ]
  },
  {
   "cell_type": "code",
   "execution_count": 11,
   "id": "04894963-7744-4bd5-9a19-8a6e2c340c1a",
   "metadata": {},
   "outputs": [
    {
     "data": {
      "text/html": [
       "<table class=\"dataframe\">\n",
       "<caption>A tibble: 1 × 1</caption>\n",
       "<thead>\n",
       "\t<tr><th scope=col>.pred</th></tr>\n",
       "\t<tr><th scope=col>&lt;dbl&gt;</th></tr>\n",
       "</thead>\n",
       "<tbody>\n",
       "\t<tr><td>0.5649512</td></tr>\n",
       "</tbody>\n",
       "</table>\n"
      ],
      "text/latex": [
       "A tibble: 1 × 1\n",
       "\\begin{tabular}{l}\n",
       " .pred\\\\\n",
       " <dbl>\\\\\n",
       "\\hline\n",
       "\t 0.5649512\\\\\n",
       "\\end{tabular}\n"
      ],
      "text/markdown": [
       "\n",
       "A tibble: 1 × 1\n",
       "\n",
       "| .pred &lt;dbl&gt; |\n",
       "|---|\n",
       "| 0.5649512 |\n",
       "\n"
      ],
      "text/plain": [
       "  .pred    \n",
       "1 0.5649512"
      ]
     },
     "metadata": {},
     "output_type": "display_data"
    },
    {
     "data": {
      "text/html": [
       "<table class=\"dataframe\">\n",
       "<caption>A tibble: 1 × 1</caption>\n",
       "<thead>\n",
       "\t<tr><th scope=col>.pred</th></tr>\n",
       "\t<tr><th scope=col>&lt;dbl&gt;</th></tr>\n",
       "</thead>\n",
       "<tbody>\n",
       "\t<tr><td>0.2653659</td></tr>\n",
       "</tbody>\n",
       "</table>\n"
      ],
      "text/latex": [
       "A tibble: 1 × 1\n",
       "\\begin{tabular}{l}\n",
       " .pred\\\\\n",
       " <dbl>\\\\\n",
       "\\hline\n",
       "\t 0.2653659\\\\\n",
       "\\end{tabular}\n"
      ],
      "text/markdown": [
       "\n",
       "A tibble: 1 × 1\n",
       "\n",
       "| .pred &lt;dbl&gt; |\n",
       "|---|\n",
       "| 0.2653659 |\n",
       "\n"
      ],
      "text/plain": [
       "  .pred    \n",
       "1 0.2653659"
      ]
     },
     "metadata": {},
     "output_type": "display_data"
    },
    {
     "data": {
      "text/html": [
       "<table class=\"dataframe\">\n",
       "<caption>A tibble: 1 × 1</caption>\n",
       "<thead>\n",
       "\t<tr><th scope=col>.pred</th></tr>\n",
       "\t<tr><th scope=col>&lt;dbl&gt;</th></tr>\n",
       "</thead>\n",
       "<tbody>\n",
       "\t<tr><td>0.4460976</td></tr>\n",
       "</tbody>\n",
       "</table>\n"
      ],
      "text/latex": [
       "A tibble: 1 × 1\n",
       "\\begin{tabular}{l}\n",
       " .pred\\\\\n",
       " <dbl>\\\\\n",
       "\\hline\n",
       "\t 0.4460976\\\\\n",
       "\\end{tabular}\n"
      ],
      "text/markdown": [
       "\n",
       "A tibble: 1 × 1\n",
       "\n",
       "| .pred &lt;dbl&gt; |\n",
       "|---|\n",
       "| 0.4460976 |\n",
       "\n"
      ],
      "text/plain": [
       "  .pred    \n",
       "1 0.4460976"
      ]
     },
     "metadata": {},
     "output_type": "display_data"
    }
   ],
   "source": [
    "# predictions\n",
    "new_obv_1 <- tibble(STG = 0.89, SCG = 0.78, STR = 0.91, LPR = 0.12)\n",
    "new_obv_pre_1 <- uk_best_fit %>%\n",
    "           predict(new_obv_1)\n",
    "new_obv_pre_1 #expected to be high, but actually kinda of low, but above average\n",
    "\n",
    "\n",
    "new_obv_2 <- tibble(STG = 0.19, SCG = 0.04, STR = 0.21, LPR = 0.89)\n",
    "new_obv_pre_2 <- uk_best_fit %>%\n",
    "           predict(new_obv_2)\n",
    "new_obv_pre_2 #as expected, is lower than average\n",
    " \n",
    "\n",
    "new_obv_3 <- tibble(STG = 0.32, SCG = 0.38, STR = 0.47, LPR = 0.50)\n",
    "new_obv_pre_3 <- uk_best_fit %>%\n",
    "           predict(new_obv_3)\n",
    "new_obv_pre_3 #lower than expected, thought it would be average"
   ]
  },
  {
   "cell_type": "markdown",
   "id": "86de8f20-ccdc-49be-9304-dadf0779c2ac",
   "metadata": {},
   "source": [
    "## Expected outcomes and significance\n",
    "We expect to find a negative linear relationship between PEG and LPR, and a positive linear relationship between PEG and the three predictor variables STG, SCG, and STR respectively. As students spend more time studying the goal object materials, related material, or having repetitive exposure to the goal object material, they will perform better on the exam. However, they may not perform well on both exam simultaneously. Therefore, if the exam performance of user for the related objects is high, then the user may not perform as well on exam of goal objects, and vise versa.\n",
    "\n",
    "This finding will give students an intuitive understanding that exam performance is correlated closely related to study time and the use of study materials. It can help students create a more time effective study plan that works for them. As a result, students may study more effectively and efficiently and achieve ideal exam performance.\n",
    "\n",
    "Future questions:\n",
    "1. Should students spend more time studying or reviewing material repeatedly in order to improve exam performance?\n",
    "2. Is there research that shows a correlation between the combination of the most effective study schedules and methods of studying?"
   ]
  },
  {
   "cell_type": "markdown",
   "id": "fd9954b1-8bbd-4296-91d3-67489a68ba0d",
   "metadata": {},
   "source": [
    "## Citations\n",
    "Kahraman, H. T., Sagiroglu, S., &amp; Colak, I. (2012, August 21). The development of intuitive knowledge classifier and the modeling of Domain Dependent Data. Knowledge-Based Systems. Retrieved June 11, 2022, from https://www.sciencedirect.com/science/article/abs/pii/S0950705112002225 "
   ]
  }
 ],
 "metadata": {
  "kernelspec": {
   "display_name": "R",
   "language": "R",
   "name": "ir"
  },
  "language_info": {
   "codemirror_mode": "r",
   "file_extension": ".r",
   "mimetype": "text/x-r-source",
   "name": "R",
   "pygments_lexer": "r",
   "version": "4.1.2"
  }
 },
 "nbformat": 4,
 "nbformat_minor": 5
}
