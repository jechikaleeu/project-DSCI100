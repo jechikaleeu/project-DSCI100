{
 "cells": [
  {
   "cell_type": "markdown",
   "id": "0001f392-53c5-4c93-9f72-d90404c1d0fe",
   "metadata": {},
   "source": [
    "# Group 24 Project Proposal\n",
    "Jessica Liu, April Cao, An Zhou, Nathan Lee"
   ]
  },
  {
   "cell_type": "markdown",
   "id": "53c7ac09-d2aa-4a9f-b6d6-b75c6e4add9b",
   "metadata": {},
   "source": [
    "## Introduction\n",
    "This dataset is a user knowledge model created by a novel  “Intuitive Knowledge Classifier” method. This method takes the distances among the students’ optimum weight value of different features on their knowledge class and determines students’ knowledge class by dissimilarities in the process. (Kahraman, 2012) In this project, we are going to predict a numeric value of exam performance (PEG) using the degree of study time, the degree of repetition number of the user, the degree of study time of related objects of the user, and the related objects exam performance of the user (SCG, STG, STR, and LPR respectively). The data set we are using is in the form of an excel sheet. It contains 5 numerical values (SCG, STG, STR, LPR and PEG) and one categorical value (UNS)."
   ]
  },
  {
   "cell_type": "markdown",
   "id": "9df7ded6-460f-49d0-8ab0-2f52db6d9b3b",
   "metadata": {},
   "source": [
    "## Preliminary exploratory data analysis"
   ]
  },
  {
   "cell_type": "code",
   "execution_count": null,
   "id": "caaee622-33b2-4988-90bb-fa6cae53176f",
   "metadata": {},
   "outputs": [],
   "source": [
    "#installing packages\n",
    "# install.packages(\"tidymodels\")\n",
    "# install.packages(\"readxl\")\n",
    "# install.packages(\"repr\")\n",
    "# install.packages(\"tidyverse\")\n",
    "# install.packages(\"psych\")\n",
    "# install.packages(\"digest\")\n",
    "# install.packages(\"kknn\")"
   ]
  },
  {
   "cell_type": "code",
   "execution_count": 1,
   "id": "1037a1e2-be8d-4623-beda-77296c008f9b",
   "metadata": {},
   "outputs": [
    {
     "name": "stderr",
     "output_type": "stream",
     "text": [
      "Warning message in system(\"timedatectl\", intern = TRUE):\n",
      "“running command 'timedatectl' had status 1”\n",
      "── \u001b[1mAttaching packages\u001b[22m ─────────────────────────────────────── tidyverse 1.3.1 ──\n",
      "\n",
      "\u001b[32m✔\u001b[39m \u001b[34mggplot2\u001b[39m 3.3.5     \u001b[32m✔\u001b[39m \u001b[34mpurrr  \u001b[39m 0.3.4\n",
      "\u001b[32m✔\u001b[39m \u001b[34mtibble \u001b[39m 3.1.7     \u001b[32m✔\u001b[39m \u001b[34mdplyr  \u001b[39m 1.0.9\n",
      "\u001b[32m✔\u001b[39m \u001b[34mtidyr  \u001b[39m 1.2.0     \u001b[32m✔\u001b[39m \u001b[34mstringr\u001b[39m 1.4.0\n",
      "\u001b[32m✔\u001b[39m \u001b[34mreadr  \u001b[39m 2.1.2     \u001b[32m✔\u001b[39m \u001b[34mforcats\u001b[39m 0.5.1\n",
      "\n",
      "── \u001b[1mConflicts\u001b[22m ────────────────────────────────────────── tidyverse_conflicts() ──\n",
      "\u001b[31m✖\u001b[39m \u001b[34mggplot2\u001b[39m::\u001b[32m%+%()\u001b[39m   masks \u001b[34mpsych\u001b[39m::%+%()\n",
      "\u001b[31m✖\u001b[39m \u001b[34mggplot2\u001b[39m::\u001b[32malpha()\u001b[39m masks \u001b[34mpsych\u001b[39m::alpha()\n",
      "\u001b[31m✖\u001b[39m \u001b[34mdplyr\u001b[39m::\u001b[32mfilter()\u001b[39m  masks \u001b[34mstats\u001b[39m::filter()\n",
      "\u001b[31m✖\u001b[39m \u001b[34mdplyr\u001b[39m::\u001b[32mlag()\u001b[39m     masks \u001b[34mstats\u001b[39m::lag()\n",
      "\n",
      "── \u001b[1mAttaching packages\u001b[22m ────────────────────────────────────── tidymodels 0.2.0 ──\n",
      "\n",
      "\u001b[32m✔\u001b[39m \u001b[34mbroom       \u001b[39m 0.7.12     \u001b[32m✔\u001b[39m \u001b[34mrsample     \u001b[39m 0.1.1 \n",
      "\u001b[32m✔\u001b[39m \u001b[34mdials       \u001b[39m 0.1.1      \u001b[32m✔\u001b[39m \u001b[34mtune        \u001b[39m 0.2.0 \n",
      "\u001b[32m✔\u001b[39m \u001b[34minfer       \u001b[39m 1.0.0      \u001b[32m✔\u001b[39m \u001b[34mworkflows   \u001b[39m 0.2.6 \n",
      "\u001b[32m✔\u001b[39m \u001b[34mmodeldata   \u001b[39m 0.1.1      \u001b[32m✔\u001b[39m \u001b[34mworkflowsets\u001b[39m 0.2.1 \n",
      "\u001b[32m✔\u001b[39m \u001b[34mparsnip     \u001b[39m 0.2.1      \u001b[32m✔\u001b[39m \u001b[34myardstick   \u001b[39m 1.0.0 \n",
      "\u001b[32m✔\u001b[39m \u001b[34mrecipes     \u001b[39m 0.2.0      \n",
      "\n",
      "── \u001b[1mConflicts\u001b[22m ───────────────────────────────────────── tidymodels_conflicts() ──\n",
      "\u001b[31m✖\u001b[39m \u001b[34mggplot2\u001b[39m::\u001b[32m%+%()\u001b[39m    masks \u001b[34mpsych\u001b[39m::%+%()\n",
      "\u001b[31m✖\u001b[39m \u001b[34mscales\u001b[39m::\u001b[32malpha()\u001b[39m   masks \u001b[34mggplot2\u001b[39m::alpha(), \u001b[34mpsych\u001b[39m::alpha()\n",
      "\u001b[31m✖\u001b[39m \u001b[34mscales\u001b[39m::\u001b[32mdiscard()\u001b[39m masks \u001b[34mpurrr\u001b[39m::discard()\n",
      "\u001b[31m✖\u001b[39m \u001b[34mdplyr\u001b[39m::\u001b[32mfilter()\u001b[39m   masks \u001b[34mstats\u001b[39m::filter()\n",
      "\u001b[31m✖\u001b[39m \u001b[34mrecipes\u001b[39m::\u001b[32mfixed()\u001b[39m  masks \u001b[34mstringr\u001b[39m::fixed()\n",
      "\u001b[31m✖\u001b[39m \u001b[34mdplyr\u001b[39m::\u001b[32mlag()\u001b[39m      masks \u001b[34mstats\u001b[39m::lag()\n",
      "\u001b[31m✖\u001b[39m \u001b[34myardstick\u001b[39m::\u001b[32mspec()\u001b[39m masks \u001b[34mreadr\u001b[39m::spec()\n",
      "\u001b[31m✖\u001b[39m \u001b[34mrecipes\u001b[39m::\u001b[32mstep()\u001b[39m   masks \u001b[34mstats\u001b[39m::step()\n",
      "\u001b[34m•\u001b[39m Learn how to get started at \u001b[32mhttps://www.tidymodels.org/start/\u001b[39m\n",
      "\n"
     ]
    }
   ],
   "source": [
    "#libraries\n",
    "library(psych)\n",
    "library(tidyverse)\n",
    "library(repr)\n",
    "library(tidymodels)\n",
    "library(readxl)\n",
    "library(digest)\n",
    "library(kknn)"
   ]
  },
  {
   "cell_type": "code",
   "execution_count": 2,
   "id": "da9c5678-92ca-424a-871e-fd67feafbc4b",
   "metadata": {},
   "outputs": [
    {
     "name": "stderr",
     "output_type": "stream",
     "text": [
      "\u001b[1m\u001b[22mNew names:\n",
      "\u001b[36m•\u001b[39m `` -> `...7`\n",
      "\u001b[36m•\u001b[39m `` -> `...8`\n"
     ]
    },
    {
     "data": {
      "text/html": [
       "<table class=\"dataframe\">\n",
       "<caption>A tibble: 6 × 6</caption>\n",
       "<thead>\n",
       "\t<tr><th scope=col>STG</th><th scope=col>SCG</th><th scope=col>STR</th><th scope=col>LPR</th><th scope=col>PEG</th><th scope=col>UNS</th></tr>\n",
       "\t<tr><th scope=col>&lt;dbl&gt;</th><th scope=col>&lt;dbl&gt;</th><th scope=col>&lt;dbl&gt;</th><th scope=col>&lt;dbl&gt;</th><th scope=col>&lt;dbl&gt;</th><th scope=col>&lt;chr&gt;</th></tr>\n",
       "</thead>\n",
       "<tbody>\n",
       "\t<tr><td>0.00</td><td>0.00</td><td>0.00</td><td>0.00</td><td>0.00</td><td>very_low</td></tr>\n",
       "\t<tr><td>0.08</td><td>0.08</td><td>0.10</td><td>0.24</td><td>0.90</td><td>High    </td></tr>\n",
       "\t<tr><td>0.06</td><td>0.06</td><td>0.05</td><td>0.25</td><td>0.33</td><td>Low     </td></tr>\n",
       "\t<tr><td>0.10</td><td>0.10</td><td>0.15</td><td>0.65</td><td>0.30</td><td>Middle  </td></tr>\n",
       "\t<tr><td>0.08</td><td>0.08</td><td>0.08</td><td>0.98</td><td>0.24</td><td>Low     </td></tr>\n",
       "\t<tr><td>0.09</td><td>0.15</td><td>0.40</td><td>0.10</td><td>0.66</td><td>Middle  </td></tr>\n",
       "</tbody>\n",
       "</table>\n"
      ],
      "text/latex": [
       "A tibble: 6 × 6\n",
       "\\begin{tabular}{llllll}\n",
       " STG & SCG & STR & LPR & PEG & UNS\\\\\n",
       " <dbl> & <dbl> & <dbl> & <dbl> & <dbl> & <chr>\\\\\n",
       "\\hline\n",
       "\t 0.00 & 0.00 & 0.00 & 0.00 & 0.00 & very\\_low\\\\\n",
       "\t 0.08 & 0.08 & 0.10 & 0.24 & 0.90 & High    \\\\\n",
       "\t 0.06 & 0.06 & 0.05 & 0.25 & 0.33 & Low     \\\\\n",
       "\t 0.10 & 0.10 & 0.15 & 0.65 & 0.30 & Middle  \\\\\n",
       "\t 0.08 & 0.08 & 0.08 & 0.98 & 0.24 & Low     \\\\\n",
       "\t 0.09 & 0.15 & 0.40 & 0.10 & 0.66 & Middle  \\\\\n",
       "\\end{tabular}\n"
      ],
      "text/markdown": [
       "\n",
       "A tibble: 6 × 6\n",
       "\n",
       "| STG &lt;dbl&gt; | SCG &lt;dbl&gt; | STR &lt;dbl&gt; | LPR &lt;dbl&gt; | PEG &lt;dbl&gt; | UNS &lt;chr&gt; |\n",
       "|---|---|---|---|---|---|\n",
       "| 0.00 | 0.00 | 0.00 | 0.00 | 0.00 | very_low |\n",
       "| 0.08 | 0.08 | 0.10 | 0.24 | 0.90 | High     |\n",
       "| 0.06 | 0.06 | 0.05 | 0.25 | 0.33 | Low      |\n",
       "| 0.10 | 0.10 | 0.15 | 0.65 | 0.30 | Middle   |\n",
       "| 0.08 | 0.08 | 0.08 | 0.98 | 0.24 | Low      |\n",
       "| 0.09 | 0.15 | 0.40 | 0.10 | 0.66 | Middle   |\n",
       "\n"
      ],
      "text/plain": [
       "  STG  SCG  STR  LPR  PEG  UNS     \n",
       "1 0.00 0.00 0.00 0.00 0.00 very_low\n",
       "2 0.08 0.08 0.10 0.24 0.90 High    \n",
       "3 0.06 0.06 0.05 0.25 0.33 Low     \n",
       "4 0.10 0.10 0.15 0.65 0.30 Middle  \n",
       "5 0.08 0.08 0.08 0.98 0.24 Low     \n",
       "6 0.09 0.15 0.40 0.10 0.66 Middle  "
      ]
     },
     "metadata": {},
     "output_type": "display_data"
    },
    {
     "name": "stderr",
     "output_type": "stream",
     "text": [
      "\u001b[1m\u001b[22mNew names:\n",
      "\u001b[36m•\u001b[39m `` -> `...7`\n",
      "\u001b[36m•\u001b[39m `` -> `...8`\n"
     ]
    },
    {
     "data": {
      "text/html": [
       "<table class=\"dataframe\">\n",
       "<caption>A tibble: 6 × 6</caption>\n",
       "<thead>\n",
       "\t<tr><th scope=col>STG</th><th scope=col>SCG</th><th scope=col>STR</th><th scope=col>LPR</th><th scope=col>PEG</th><th scope=col>UNS</th></tr>\n",
       "\t<tr><th scope=col>&lt;dbl&gt;</th><th scope=col>&lt;dbl&gt;</th><th scope=col>&lt;dbl&gt;</th><th scope=col>&lt;dbl&gt;</th><th scope=col>&lt;dbl&gt;</th><th scope=col>&lt;chr&gt;</th></tr>\n",
       "</thead>\n",
       "<tbody>\n",
       "\t<tr><td>0.00</td><td>0.10</td><td>0.50</td><td>0.26</td><td>0.05</td><td>Very Low</td></tr>\n",
       "\t<tr><td>0.05</td><td>0.05</td><td>0.55</td><td>0.60</td><td>0.14</td><td>Low     </td></tr>\n",
       "\t<tr><td>0.08</td><td>0.18</td><td>0.63</td><td>0.60</td><td>0.85</td><td>High    </td></tr>\n",
       "\t<tr><td>0.20</td><td>0.20</td><td>0.68</td><td>0.67</td><td>0.85</td><td>High    </td></tr>\n",
       "\t<tr><td>0.22</td><td>0.22</td><td>0.90</td><td>0.30</td><td>0.90</td><td>High    </td></tr>\n",
       "\t<tr><td>0.14</td><td>0.14</td><td>0.70</td><td>0.50</td><td>0.30</td><td>Low     </td></tr>\n",
       "</tbody>\n",
       "</table>\n"
      ],
      "text/latex": [
       "A tibble: 6 × 6\n",
       "\\begin{tabular}{llllll}\n",
       " STG & SCG & STR & LPR & PEG & UNS\\\\\n",
       " <dbl> & <dbl> & <dbl> & <dbl> & <dbl> & <chr>\\\\\n",
       "\\hline\n",
       "\t 0.00 & 0.10 & 0.50 & 0.26 & 0.05 & Very Low\\\\\n",
       "\t 0.05 & 0.05 & 0.55 & 0.60 & 0.14 & Low     \\\\\n",
       "\t 0.08 & 0.18 & 0.63 & 0.60 & 0.85 & High    \\\\\n",
       "\t 0.20 & 0.20 & 0.68 & 0.67 & 0.85 & High    \\\\\n",
       "\t 0.22 & 0.22 & 0.90 & 0.30 & 0.90 & High    \\\\\n",
       "\t 0.14 & 0.14 & 0.70 & 0.50 & 0.30 & Low     \\\\\n",
       "\\end{tabular}\n"
      ],
      "text/markdown": [
       "\n",
       "A tibble: 6 × 6\n",
       "\n",
       "| STG &lt;dbl&gt; | SCG &lt;dbl&gt; | STR &lt;dbl&gt; | LPR &lt;dbl&gt; | PEG &lt;dbl&gt; | UNS &lt;chr&gt; |\n",
       "|---|---|---|---|---|---|\n",
       "| 0.00 | 0.10 | 0.50 | 0.26 | 0.05 | Very Low |\n",
       "| 0.05 | 0.05 | 0.55 | 0.60 | 0.14 | Low      |\n",
       "| 0.08 | 0.18 | 0.63 | 0.60 | 0.85 | High     |\n",
       "| 0.20 | 0.20 | 0.68 | 0.67 | 0.85 | High     |\n",
       "| 0.22 | 0.22 | 0.90 | 0.30 | 0.90 | High     |\n",
       "| 0.14 | 0.14 | 0.70 | 0.50 | 0.30 | Low      |\n",
       "\n"
      ],
      "text/plain": [
       "  STG  SCG  STR  LPR  PEG  UNS     \n",
       "1 0.00 0.10 0.50 0.26 0.05 Very Low\n",
       "2 0.05 0.05 0.55 0.60 0.14 Low     \n",
       "3 0.08 0.18 0.63 0.60 0.85 High    \n",
       "4 0.20 0.20 0.68 0.67 0.85 High    \n",
       "5 0.22 0.22 0.90 0.30 0.90 High    \n",
       "6 0.14 0.14 0.70 0.50 0.30 Low     "
      ]
     },
     "metadata": {},
     "output_type": "display_data"
    }
   ],
   "source": [
    "#loading in data\n",
    "url <- \"https://archive.ics.uci.edu/ml/machine-learning-databases/00257/Data_User_Modeling_Dataset_Hamdi%20Tolga%20KAHRAMAN.xls\"\n",
    "destfile <- \"project-DSCI100\"\n",
    "download.file(url, \"uk_data.xls\")\n",
    "\n",
    "uk_train <- read_excel(\"uk_data.xls\", sheet = 2)\n",
    "uk_train <- uk_train %>%\n",
    "    select(STG:UNS)\n",
    "\n",
    "uk_test <- read_excel(\"uk_data.xls\", sheet = 3)\n",
    "uk_test <- uk_test %>%\n",
    "    select(STG:UNS)"
   ]
  },
  {
   "cell_type": "code",
   "execution_count": 3,
   "id": "b2fd8641-ee3f-40ea-bc3a-1bd3109a0d51",
   "metadata": {},
   "outputs": [
    {
     "data": {
      "text/html": [
       "<table class=\"dataframe\">\n",
       "<caption>A tibble: 6 × 6</caption>\n",
       "<thead>\n",
       "\t<tr><th scope=col>STG</th><th scope=col>SCG</th><th scope=col>STR</th><th scope=col>LPR</th><th scope=col>PEG</th><th scope=col>UNS</th></tr>\n",
       "\t<tr><th scope=col>&lt;dbl&gt;</th><th scope=col>&lt;dbl&gt;</th><th scope=col>&lt;dbl&gt;</th><th scope=col>&lt;dbl&gt;</th><th scope=col>&lt;dbl&gt;</th><th scope=col>&lt;chr&gt;</th></tr>\n",
       "</thead>\n",
       "<tbody>\n",
       "\t<tr><td>0.00</td><td>0.00</td><td>0.00</td><td>0.00</td><td>0.00</td><td>very_low</td></tr>\n",
       "\t<tr><td>0.08</td><td>0.08</td><td>0.10</td><td>0.24</td><td>0.90</td><td>High    </td></tr>\n",
       "\t<tr><td>0.06</td><td>0.06</td><td>0.05</td><td>0.25</td><td>0.33</td><td>Low     </td></tr>\n",
       "\t<tr><td>0.10</td><td>0.10</td><td>0.15</td><td>0.65</td><td>0.30</td><td>Middle  </td></tr>\n",
       "\t<tr><td>0.08</td><td>0.08</td><td>0.08</td><td>0.98</td><td>0.24</td><td>Low     </td></tr>\n",
       "\t<tr><td>0.09</td><td>0.15</td><td>0.40</td><td>0.10</td><td>0.66</td><td>Middle  </td></tr>\n",
       "</tbody>\n",
       "</table>\n"
      ],
      "text/latex": [
       "A tibble: 6 × 6\n",
       "\\begin{tabular}{llllll}\n",
       " STG & SCG & STR & LPR & PEG & UNS\\\\\n",
       " <dbl> & <dbl> & <dbl> & <dbl> & <dbl> & <chr>\\\\\n",
       "\\hline\n",
       "\t 0.00 & 0.00 & 0.00 & 0.00 & 0.00 & very\\_low\\\\\n",
       "\t 0.08 & 0.08 & 0.10 & 0.24 & 0.90 & High    \\\\\n",
       "\t 0.06 & 0.06 & 0.05 & 0.25 & 0.33 & Low     \\\\\n",
       "\t 0.10 & 0.10 & 0.15 & 0.65 & 0.30 & Middle  \\\\\n",
       "\t 0.08 & 0.08 & 0.08 & 0.98 & 0.24 & Low     \\\\\n",
       "\t 0.09 & 0.15 & 0.40 & 0.10 & 0.66 & Middle  \\\\\n",
       "\\end{tabular}\n"
      ],
      "text/markdown": [
       "\n",
       "A tibble: 6 × 6\n",
       "\n",
       "| STG &lt;dbl&gt; | SCG &lt;dbl&gt; | STR &lt;dbl&gt; | LPR &lt;dbl&gt; | PEG &lt;dbl&gt; | UNS &lt;chr&gt; |\n",
       "|---|---|---|---|---|---|\n",
       "| 0.00 | 0.00 | 0.00 | 0.00 | 0.00 | very_low |\n",
       "| 0.08 | 0.08 | 0.10 | 0.24 | 0.90 | High     |\n",
       "| 0.06 | 0.06 | 0.05 | 0.25 | 0.33 | Low      |\n",
       "| 0.10 | 0.10 | 0.15 | 0.65 | 0.30 | Middle   |\n",
       "| 0.08 | 0.08 | 0.08 | 0.98 | 0.24 | Low      |\n",
       "| 0.09 | 0.15 | 0.40 | 0.10 | 0.66 | Middle   |\n",
       "\n"
      ],
      "text/plain": [
       "  STG  SCG  STR  LPR  PEG  UNS     \n",
       "1 0.00 0.00 0.00 0.00 0.00 very_low\n",
       "2 0.08 0.08 0.10 0.24 0.90 High    \n",
       "3 0.06 0.06 0.05 0.25 0.33 Low     \n",
       "4 0.10 0.10 0.15 0.65 0.30 Middle  \n",
       "5 0.08 0.08 0.08 0.98 0.24 Low     \n",
       "6 0.09 0.15 0.40 0.10 0.66 Middle  "
      ]
     },
     "metadata": {},
     "output_type": "display_data"
    },
    {
     "data": {
      "text/html": [
       "<table class=\"dataframe\">\n",
       "<caption>A tibble: 6 × 6</caption>\n",
       "<thead>\n",
       "\t<tr><th scope=col>STG</th><th scope=col>SCG</th><th scope=col>STR</th><th scope=col>LPR</th><th scope=col>PEG</th><th scope=col>UNS</th></tr>\n",
       "\t<tr><th scope=col>&lt;dbl&gt;</th><th scope=col>&lt;dbl&gt;</th><th scope=col>&lt;dbl&gt;</th><th scope=col>&lt;dbl&gt;</th><th scope=col>&lt;dbl&gt;</th><th scope=col>&lt;chr&gt;</th></tr>\n",
       "</thead>\n",
       "<tbody>\n",
       "\t<tr><td>0.00</td><td>0.10</td><td>0.50</td><td>0.26</td><td>0.05</td><td>Very Low</td></tr>\n",
       "\t<tr><td>0.05</td><td>0.05</td><td>0.55</td><td>0.60</td><td>0.14</td><td>Low     </td></tr>\n",
       "\t<tr><td>0.08</td><td>0.18</td><td>0.63</td><td>0.60</td><td>0.85</td><td>High    </td></tr>\n",
       "\t<tr><td>0.20</td><td>0.20</td><td>0.68</td><td>0.67</td><td>0.85</td><td>High    </td></tr>\n",
       "\t<tr><td>0.22</td><td>0.22</td><td>0.90</td><td>0.30</td><td>0.90</td><td>High    </td></tr>\n",
       "\t<tr><td>0.14</td><td>0.14</td><td>0.70</td><td>0.50</td><td>0.30</td><td>Low     </td></tr>\n",
       "</tbody>\n",
       "</table>\n"
      ],
      "text/latex": [
       "A tibble: 6 × 6\n",
       "\\begin{tabular}{llllll}\n",
       " STG & SCG & STR & LPR & PEG & UNS\\\\\n",
       " <dbl> & <dbl> & <dbl> & <dbl> & <dbl> & <chr>\\\\\n",
       "\\hline\n",
       "\t 0.00 & 0.10 & 0.50 & 0.26 & 0.05 & Very Low\\\\\n",
       "\t 0.05 & 0.05 & 0.55 & 0.60 & 0.14 & Low     \\\\\n",
       "\t 0.08 & 0.18 & 0.63 & 0.60 & 0.85 & High    \\\\\n",
       "\t 0.20 & 0.20 & 0.68 & 0.67 & 0.85 & High    \\\\\n",
       "\t 0.22 & 0.22 & 0.90 & 0.30 & 0.90 & High    \\\\\n",
       "\t 0.14 & 0.14 & 0.70 & 0.50 & 0.30 & Low     \\\\\n",
       "\\end{tabular}\n"
      ],
      "text/markdown": [
       "\n",
       "A tibble: 6 × 6\n",
       "\n",
       "| STG &lt;dbl&gt; | SCG &lt;dbl&gt; | STR &lt;dbl&gt; | LPR &lt;dbl&gt; | PEG &lt;dbl&gt; | UNS &lt;chr&gt; |\n",
       "|---|---|---|---|---|---|\n",
       "| 0.00 | 0.10 | 0.50 | 0.26 | 0.05 | Very Low |\n",
       "| 0.05 | 0.05 | 0.55 | 0.60 | 0.14 | Low      |\n",
       "| 0.08 | 0.18 | 0.63 | 0.60 | 0.85 | High     |\n",
       "| 0.20 | 0.20 | 0.68 | 0.67 | 0.85 | High     |\n",
       "| 0.22 | 0.22 | 0.90 | 0.30 | 0.90 | High     |\n",
       "| 0.14 | 0.14 | 0.70 | 0.50 | 0.30 | Low      |\n",
       "\n"
      ],
      "text/plain": [
       "  STG  SCG  STR  LPR  PEG  UNS     \n",
       "1 0.00 0.10 0.50 0.26 0.05 Very Low\n",
       "2 0.05 0.05 0.55 0.60 0.14 Low     \n",
       "3 0.08 0.18 0.63 0.60 0.85 High    \n",
       "4 0.20 0.20 0.68 0.67 0.85 High    \n",
       "5 0.22 0.22 0.90 0.30 0.90 High    \n",
       "6 0.14 0.14 0.70 0.50 0.30 Low     "
      ]
     },
     "metadata": {},
     "output_type": "display_data"
    }
   ],
   "source": [
    "set.seed(2022) \n",
    "\n",
    "head(uk_train)\n",
    "head(uk_test)"
   ]
  },
  {
   "cell_type": "code",
   "execution_count": 4,
   "id": "2ff5fb5b-0af4-42c8-8ba6-f1aa9536a5e5",
   "metadata": {},
   "outputs": [
    {
     "data": {
      "text/html": [
       "<table class=\"dataframe\">\n",
       "<caption>A psych: 6 × 13</caption>\n",
       "<thead>\n",
       "\t<tr><th></th><th scope=col>vars</th><th scope=col>n</th><th scope=col>mean</th><th scope=col>sd</th><th scope=col>median</th><th scope=col>trimmed</th><th scope=col>mad</th><th scope=col>min</th><th scope=col>max</th><th scope=col>range</th><th scope=col>skew</th><th scope=col>kurtosis</th><th scope=col>se</th></tr>\n",
       "\t<tr><th></th><th scope=col>&lt;int&gt;</th><th scope=col>&lt;dbl&gt;</th><th scope=col>&lt;dbl&gt;</th><th scope=col>&lt;dbl&gt;</th><th scope=col>&lt;dbl&gt;</th><th scope=col>&lt;dbl&gt;</th><th scope=col>&lt;dbl&gt;</th><th scope=col>&lt;dbl&gt;</th><th scope=col>&lt;dbl&gt;</th><th scope=col>&lt;dbl&gt;</th><th scope=col>&lt;dbl&gt;</th><th scope=col>&lt;dbl&gt;</th><th scope=col>&lt;dbl&gt;</th></tr>\n",
       "</thead>\n",
       "<tbody>\n",
       "\t<tr><th scope=row>STG</th><td>1</td><td>258</td><td>0.3711473</td><td>0.2102712</td><td>0.3270</td><td>0.3573365</td><td>0.2001510</td><td>0</td><td>0.99</td><td>0.99</td><td> 0.54530383</td><td>-0.2805904</td><td>0.01309091</td></tr>\n",
       "\t<tr><th scope=row>SCG</th><td>2</td><td>258</td><td>0.3556744</td><td>0.2119623</td><td>0.3025</td><td>0.3412452</td><td>0.1816185</td><td>0</td><td>0.90</td><td>0.90</td><td> 0.60233875</td><td>-0.3902010</td><td>0.01319620</td></tr>\n",
       "\t<tr><th scope=row>STR</th><td>3</td><td>258</td><td>0.4680039</td><td>0.2459398</td><td>0.4900</td><td>0.4706971</td><td>0.2965200</td><td>0</td><td>0.95</td><td>0.95</td><td>-0.05328495</td><td>-1.0798002</td><td>0.01531154</td></tr>\n",
       "\t<tr><th scope=row>LPR</th><td>4</td><td>258</td><td>0.4327132</td><td>0.2481080</td><td>0.3300</td><td>0.4224519</td><td>0.2372160</td><td>0</td><td>0.99</td><td>0.99</td><td> 0.39616700</td><td>-1.0173734</td><td>0.01544653</td></tr>\n",
       "\t<tr><th scope=row>PEG</th><td>5</td><td>258</td><td>0.4585388</td><td>0.2552109</td><td>0.5000</td><td>0.4558798</td><td>0.3261720</td><td>0</td><td>0.93</td><td>0.93</td><td> 0.07280595</td><td>-1.2570042</td><td>0.01588874</td></tr>\n",
       "\t<tr><th scope=row>UNS*</th><td>6</td><td>258</td><td>2.2829457</td><td>0.9384667</td><td>2.0000</td><td>2.2355769</td><td>1.4826000</td><td>1</td><td>4.00</td><td>3.00</td><td> 0.08922054</td><td>-0.9857867</td><td>0.05842638</td></tr>\n",
       "</tbody>\n",
       "</table>\n"
      ],
      "text/latex": [
       "A psych: 6 × 13\n",
       "\\begin{tabular}{r|lllllllllllll}\n",
       "  & vars & n & mean & sd & median & trimmed & mad & min & max & range & skew & kurtosis & se\\\\\n",
       "  & <int> & <dbl> & <dbl> & <dbl> & <dbl> & <dbl> & <dbl> & <dbl> & <dbl> & <dbl> & <dbl> & <dbl> & <dbl>\\\\\n",
       "\\hline\n",
       "\tSTG & 1 & 258 & 0.3711473 & 0.2102712 & 0.3270 & 0.3573365 & 0.2001510 & 0 & 0.99 & 0.99 &  0.54530383 & -0.2805904 & 0.01309091\\\\\n",
       "\tSCG & 2 & 258 & 0.3556744 & 0.2119623 & 0.3025 & 0.3412452 & 0.1816185 & 0 & 0.90 & 0.90 &  0.60233875 & -0.3902010 & 0.01319620\\\\\n",
       "\tSTR & 3 & 258 & 0.4680039 & 0.2459398 & 0.4900 & 0.4706971 & 0.2965200 & 0 & 0.95 & 0.95 & -0.05328495 & -1.0798002 & 0.01531154\\\\\n",
       "\tLPR & 4 & 258 & 0.4327132 & 0.2481080 & 0.3300 & 0.4224519 & 0.2372160 & 0 & 0.99 & 0.99 &  0.39616700 & -1.0173734 & 0.01544653\\\\\n",
       "\tPEG & 5 & 258 & 0.4585388 & 0.2552109 & 0.5000 & 0.4558798 & 0.3261720 & 0 & 0.93 & 0.93 &  0.07280595 & -1.2570042 & 0.01588874\\\\\n",
       "\tUNS* & 6 & 258 & 2.2829457 & 0.9384667 & 2.0000 & 2.2355769 & 1.4826000 & 1 & 4.00 & 3.00 &  0.08922054 & -0.9857867 & 0.05842638\\\\\n",
       "\\end{tabular}\n"
      ],
      "text/markdown": [
       "\n",
       "A psych: 6 × 13\n",
       "\n",
       "| <!--/--> | vars &lt;int&gt; | n &lt;dbl&gt; | mean &lt;dbl&gt; | sd &lt;dbl&gt; | median &lt;dbl&gt; | trimmed &lt;dbl&gt; | mad &lt;dbl&gt; | min &lt;dbl&gt; | max &lt;dbl&gt; | range &lt;dbl&gt; | skew &lt;dbl&gt; | kurtosis &lt;dbl&gt; | se &lt;dbl&gt; |\n",
       "|---|---|---|---|---|---|---|---|---|---|---|---|---|---|\n",
       "| STG | 1 | 258 | 0.3711473 | 0.2102712 | 0.3270 | 0.3573365 | 0.2001510 | 0 | 0.99 | 0.99 |  0.54530383 | -0.2805904 | 0.01309091 |\n",
       "| SCG | 2 | 258 | 0.3556744 | 0.2119623 | 0.3025 | 0.3412452 | 0.1816185 | 0 | 0.90 | 0.90 |  0.60233875 | -0.3902010 | 0.01319620 |\n",
       "| STR | 3 | 258 | 0.4680039 | 0.2459398 | 0.4900 | 0.4706971 | 0.2965200 | 0 | 0.95 | 0.95 | -0.05328495 | -1.0798002 | 0.01531154 |\n",
       "| LPR | 4 | 258 | 0.4327132 | 0.2481080 | 0.3300 | 0.4224519 | 0.2372160 | 0 | 0.99 | 0.99 |  0.39616700 | -1.0173734 | 0.01544653 |\n",
       "| PEG | 5 | 258 | 0.4585388 | 0.2552109 | 0.5000 | 0.4558798 | 0.3261720 | 0 | 0.93 | 0.93 |  0.07280595 | -1.2570042 | 0.01588874 |\n",
       "| UNS* | 6 | 258 | 2.2829457 | 0.9384667 | 2.0000 | 2.2355769 | 1.4826000 | 1 | 4.00 | 3.00 |  0.08922054 | -0.9857867 | 0.05842638 |\n",
       "\n"
      ],
      "text/plain": [
       "     vars n   mean      sd        median trimmed   mad       min max  range\n",
       "STG  1    258 0.3711473 0.2102712 0.3270 0.3573365 0.2001510 0   0.99 0.99 \n",
       "SCG  2    258 0.3556744 0.2119623 0.3025 0.3412452 0.1816185 0   0.90 0.90 \n",
       "STR  3    258 0.4680039 0.2459398 0.4900 0.4706971 0.2965200 0   0.95 0.95 \n",
       "LPR  4    258 0.4327132 0.2481080 0.3300 0.4224519 0.2372160 0   0.99 0.99 \n",
       "PEG  5    258 0.4585388 0.2552109 0.5000 0.4558798 0.3261720 0   0.93 0.93 \n",
       "UNS* 6    258 2.2829457 0.9384667 2.0000 2.2355769 1.4826000 1   4.00 3.00 \n",
       "     skew        kurtosis   se        \n",
       "STG   0.54530383 -0.2805904 0.01309091\n",
       "SCG   0.60233875 -0.3902010 0.01319620\n",
       "STR  -0.05328495 -1.0798002 0.01531154\n",
       "LPR   0.39616700 -1.0173734 0.01544653\n",
       "PEG   0.07280595 -1.2570042 0.01588874\n",
       "UNS*  0.08922054 -0.9857867 0.05842638"
      ]
     },
     "metadata": {},
     "output_type": "display_data"
    }
   ],
   "source": [
    "#summary table\n",
    "#via https://www.statology.org/summary-table-in-r/#:~:text=The%20easiest%20way%20to%20create%20summary%20tables%20in%20R%20is,functions%20from%20the%20psych%20library.\n",
    "uk_train_summary <- describe(uk_train)\n",
    "uk_train_summary"
   ]
  },
  {
   "cell_type": "code",
   "execution_count": 5,
   "id": "f2dbf465-c4da-4c65-86bf-2ea1ede394e5",
   "metadata": {},
   "outputs": [
    {
     "data": {
      "image/png": "[encoded data removed]",
      "text/plain": [
       "plot without title"
      ]
     },
     "metadata": {
      "image/png": {
       "height": 420,
       "width": 420
      }
     },
     "output_type": "display_data"
    },
    {
     "data": {
      "image/png": "[encoded data removed]",
      "text/plain": [
       "plot without title"
      ]
     },
     "metadata": {
      "image/png": {
       "height": 420,
       "width": 420
      }
     },
     "output_type": "display_data"
    },
    {
     "data": {
      "image/png": "[encoded data removed]",
      "text/plain": [
       "plot without title"
      ]
     },
     "metadata": {
      "image/png": {
       "height": 420,
       "width": 420
      }
     },
     "output_type": "display_data"
    },
    {
     "data": {
      "image/png": "[encoded data removed]",
      "text/plain": [
       "plot without title"
      ]
     },
     "metadata": {
      "image/png": {
       "height": 420,
       "width": 420
      }
     },
     "output_type": "display_data"
    }
   ],
   "source": [
    "# plots (response variable vs. predictor)\n",
    "stgpeg_plot <- uk_train %>%\n",
    "    ggplot(aes(x = STG, y = PEG)) +\n",
    "    geom_point() +\n",
    "    ggtitle(\"PEG vs STG (figure 1)\")\n",
    "stgpeg_plot\n",
    "\n",
    "scgpeg_plot <- uk_train %>%\n",
    "    ggplot(aes(x = SCG, y = PEG)) +\n",
    "    geom_point()+\n",
    "    ggtitle(\"PEG vs SCG (figure 2)\")\n",
    "scgpeg_plot\n",
    "\n",
    "strpeg_plot <- uk_train %>%\n",
    "    ggplot(aes(x = STR, y = PEG)) +\n",
    "    geom_point()+\n",
    "    ggtitle(\"PEG vs STR (figure 3)\")\n",
    "strpeg_plot\n",
    "\n",
    "lprpeg_plot <- uk_train %>%\n",
    "    ggplot(aes(x = LPR, y = PEG)) +\n",
    "    geom_point()+\n",
    "    ggtitle(\"PEG vs LPR (figure 4)\")\n",
    "lprpeg_plot"
   ]
  },
  {
   "cell_type": "markdown",
   "id": "d4303681-08d7-434d-bd38-c830920ae007",
   "metadata": {
    "tags": []
   },
   "source": [
    "## Methods\n",
    "Firstly, the excel sheet was read and tidied by selecting the relevant columns. After using `head()` to get a better look at the data and `describe()`, from the `psych` package, to summarize it, four scatter plots were generated to visualize the relationship between our response variable, PEG, and one out of four of our predictors. The predictors were chosen based on the expected relationship between them and the response variable, PEG. It was predicted that STG (figure 1), SCG (figure 2), or STR (figure 3) will form a positive relationship with PEG, but that LPR (figure 4) will form a negative relationship with PEG. After observing the plots and discovering there were no correlations with any of the predictors with PEG individually, a predictive model was created based on all four predictors and the response variable. A more in depth explanation of the reasoning can be found in the discussion.\n",
    "\n",
    "First, a model specification was created and the optimal K value was found using `nearest_neighbors()` and `tune()`. Then, the recipe was specified and the predictors were scaled to preprocess our data. A 5-fold cross-validation was then performed to choose the K and collected the metrics from the workflow. The model was then retrained on the entire training data using the optimal K value and the RMSPE value was determined. Next, three new observations were created by using the `tibble()` functions, and tested them one by one using the KNN regression predictive model to analyze the results. "
   ]
  },
  {
   "cell_type": "code",
   "execution_count": 6,
   "id": "1a92de39-c2be-4af8-9f63-52f160b508db",
   "metadata": {},
   "outputs": [
    {
     "data": {
      "text/plain": [
       "K-Nearest Neighbor Model Specification (regression)\n",
       "\n",
       "Main Arguments:\n",
       "  neighbors = tune()\n",
       "  weight_func = rectangular\n",
       "\n",
       "Computational engine: kknn \n"
      ]
     },
     "metadata": {},
     "output_type": "display_data"
    },
    {
     "data": {
      "text/plain": [
       "Recipe\n",
       "\n",
       "Inputs:\n",
       "\n",
       "      role #variables\n",
       "   outcome          1\n",
       " predictor          4\n",
       "\n",
       "Operations:\n",
       "\n",
       "Scaling for all_predictors()\n",
       "Centering for all_predictors()"
      ]
     },
     "metadata": {},
     "output_type": "display_data"
    }
   ],
   "source": [
    "# create model specification\n",
    "uk_spec <- nearest_neighbor(weight_func = \"rectangular\", neighbors = tune()) %>% \n",
    "       set_engine(\"kknn\") %>%\n",
    "       set_mode(\"regression\") \n",
    "uk_spec\n",
    "\n",
    "# create the recipe\n",
    "uk_recipe <- recipe(PEG ~ STG + SCG + STR + LPR, data = uk_train) %>%\n",
    "       step_scale(all_predictors()) %>%\n",
    "       step_center(all_predictors())\n",
    "uk_recipe"
   ]
  },
  {
   "cell_type": "code",
   "execution_count": 7,
   "id": "5dad9484-85de-453a-8296-dc2a0359c2c2",
   "metadata": {},
   "outputs": [
    {
     "data": {
      "text/html": [
       "<table class=\"dataframe\">\n",
       "<caption>A tibble: 6 × 1</caption>\n",
       "<thead>\n",
       "\t<tr><th scope=col>neighbors</th></tr>\n",
       "\t<tr><th scope=col>&lt;int&gt;</th></tr>\n",
       "</thead>\n",
       "<tbody>\n",
       "\t<tr><td>1</td></tr>\n",
       "\t<tr><td>2</td></tr>\n",
       "\t<tr><td>3</td></tr>\n",
       "\t<tr><td>4</td></tr>\n",
       "\t<tr><td>5</td></tr>\n",
       "\t<tr><td>6</td></tr>\n",
       "</tbody>\n",
       "</table>\n"
      ],
      "text/latex": [
       "A tibble: 6 × 1\n",
       "\\begin{tabular}{l}\n",
       " neighbors\\\\\n",
       " <int>\\\\\n",
       "\\hline\n",
       "\t 1\\\\\n",
       "\t 2\\\\\n",
       "\t 3\\\\\n",
       "\t 4\\\\\n",
       "\t 5\\\\\n",
       "\t 6\\\\\n",
       "\\end{tabular}\n"
      ],
      "text/markdown": [
       "\n",
       "A tibble: 6 × 1\n",
       "\n",
       "| neighbors &lt;int&gt; |\n",
       "|---|\n",
       "| 1 |\n",
       "| 2 |\n",
       "| 3 |\n",
       "| 4 |\n",
       "| 5 |\n",
       "| 6 |\n",
       "\n"
      ],
      "text/plain": [
       "  neighbors\n",
       "1 1        \n",
       "2 2        \n",
       "3 3        \n",
       "4 4        \n",
       "5 5        \n",
       "6 6        "
      ]
     },
     "metadata": {},
     "output_type": "display_data"
    },
    {
     "data": {
      "text/html": [
       "<table class=\"dataframe\">\n",
       "<caption>A tibble: 6 × 7</caption>\n",
       "<thead>\n",
       "\t<tr><th scope=col>neighbors</th><th scope=col>.metric</th><th scope=col>.estimator</th><th scope=col>mean</th><th scope=col>n</th><th scope=col>std_err</th><th scope=col>.config</th></tr>\n",
       "\t<tr><th scope=col>&lt;int&gt;</th><th scope=col>&lt;chr&gt;</th><th scope=col>&lt;chr&gt;</th><th scope=col>&lt;dbl&gt;</th><th scope=col>&lt;int&gt;</th><th scope=col>&lt;dbl&gt;</th><th scope=col>&lt;chr&gt;</th></tr>\n",
       "</thead>\n",
       "<tbody>\n",
       "\t<tr><td>1</td><td>rmse</td><td>standard</td><td>0.31152428</td><td>5</td><td>0.009989143</td><td>Preprocessor1_Model01</td></tr>\n",
       "\t<tr><td>1</td><td>rsq </td><td>standard</td><td>0.06278288</td><td>5</td><td>0.020524051</td><td>Preprocessor1_Model01</td></tr>\n",
       "\t<tr><td>2</td><td>rmse</td><td>standard</td><td>0.26937458</td><td>5</td><td>0.002373659</td><td>Preprocessor1_Model02</td></tr>\n",
       "\t<tr><td>2</td><td>rsq </td><td>standard</td><td>0.08595164</td><td>5</td><td>0.012937212</td><td>Preprocessor1_Model02</td></tr>\n",
       "\t<tr><td>3</td><td>rmse</td><td>standard</td><td>0.25421486</td><td>5</td><td>0.008325019</td><td>Preprocessor1_Model03</td></tr>\n",
       "\t<tr><td>3</td><td>rsq </td><td>standard</td><td>0.11528242</td><td>5</td><td>0.038134794</td><td>Preprocessor1_Model03</td></tr>\n",
       "</tbody>\n",
       "</table>\n"
      ],
      "text/latex": [
       "A tibble: 6 × 7\n",
       "\\begin{tabular}{lllllll}\n",
       " neighbors & .metric & .estimator & mean & n & std\\_err & .config\\\\\n",
       " <int> & <chr> & <chr> & <dbl> & <int> & <dbl> & <chr>\\\\\n",
       "\\hline\n",
       "\t 1 & rmse & standard & 0.31152428 & 5 & 0.009989143 & Preprocessor1\\_Model01\\\\\n",
       "\t 1 & rsq  & standard & 0.06278288 & 5 & 0.020524051 & Preprocessor1\\_Model01\\\\\n",
       "\t 2 & rmse & standard & 0.26937458 & 5 & 0.002373659 & Preprocessor1\\_Model02\\\\\n",
       "\t 2 & rsq  & standard & 0.08595164 & 5 & 0.012937212 & Preprocessor1\\_Model02\\\\\n",
       "\t 3 & rmse & standard & 0.25421486 & 5 & 0.008325019 & Preprocessor1\\_Model03\\\\\n",
       "\t 3 & rsq  & standard & 0.11528242 & 5 & 0.038134794 & Preprocessor1\\_Model03\\\\\n",
       "\\end{tabular}\n"
      ],
      "text/markdown": [
       "\n",
       "A tibble: 6 × 7\n",
       "\n",
       "| neighbors &lt;int&gt; | .metric &lt;chr&gt; | .estimator &lt;chr&gt; | mean &lt;dbl&gt; | n &lt;int&gt; | std_err &lt;dbl&gt; | .config &lt;chr&gt; |\n",
       "|---|---|---|---|---|---|---|\n",
       "| 1 | rmse | standard | 0.31152428 | 5 | 0.009989143 | Preprocessor1_Model01 |\n",
       "| 1 | rsq  | standard | 0.06278288 | 5 | 0.020524051 | Preprocessor1_Model01 |\n",
       "| 2 | rmse | standard | 0.26937458 | 5 | 0.002373659 | Preprocessor1_Model02 |\n",
       "| 2 | rsq  | standard | 0.08595164 | 5 | 0.012937212 | Preprocessor1_Model02 |\n",
       "| 3 | rmse | standard | 0.25421486 | 5 | 0.008325019 | Preprocessor1_Model03 |\n",
       "| 3 | rsq  | standard | 0.11528242 | 5 | 0.038134794 | Preprocessor1_Model03 |\n",
       "\n"
      ],
      "text/plain": [
       "  neighbors .metric .estimator mean       n std_err     .config              \n",
       "1 1         rmse    standard   0.31152428 5 0.009989143 Preprocessor1_Model01\n",
       "2 1         rsq     standard   0.06278288 5 0.020524051 Preprocessor1_Model01\n",
       "3 2         rmse    standard   0.26937458 5 0.002373659 Preprocessor1_Model02\n",
       "4 2         rsq     standard   0.08595164 5 0.012937212 Preprocessor1_Model02\n",
       "5 3         rmse    standard   0.25421486 5 0.008325019 Preprocessor1_Model03\n",
       "6 3         rsq     standard   0.11528242 5 0.038134794 Preprocessor1_Model03"
      ]
     },
     "metadata": {},
     "output_type": "display_data"
    }
   ],
   "source": [
    "# cross-validation\n",
    "uk_vfold <- vfold_cv(uk_train, v = 5, strata = PEG)\n",
    "\n",
    "gridvals <- tibble(neighbors = seq(1, 80))\n",
    "head(gridvals)\n",
    "\n",
    "uk_workflow <- workflow() %>%\n",
    "    add_recipe(uk_recipe) %>%\n",
    "    add_model(uk_spec)%>%\n",
    "    tune_grid(resamples = uk_vfold, grid = gridvals) %>%\n",
    "    collect_metrics()\n",
    "\n",
    "head(uk_workflow)"
   ]
  },
  {
   "cell_type": "code",
   "execution_count": 8,
   "id": "9fd221a6-6643-4ddd-a671-8177d7c38a37",
   "metadata": {},
   "outputs": [
    {
     "data": {
      "text/html": [
       "41"
      ],
      "text/latex": [
       "41"
      ],
      "text/markdown": [
       "41"
      ],
      "text/plain": [
       "[1] 41"
      ]
     },
     "metadata": {},
     "output_type": "display_data"
    },
    {
     "data": {
      "text/html": [
       "<table class=\"dataframe\">\n",
       "<caption>A tibble: 3 × 3</caption>\n",
       "<thead>\n",
       "\t<tr><th scope=col>.metric</th><th scope=col>.estimator</th><th scope=col>.estimate</th></tr>\n",
       "\t<tr><th scope=col>&lt;chr&gt;</th><th scope=col>&lt;chr&gt;</th><th scope=col>&lt;dbl&gt;</th></tr>\n",
       "</thead>\n",
       "<tbody>\n",
       "\t<tr><td>rmse</td><td>standard</td><td>0.30693940</td></tr>\n",
       "\t<tr><td>rsq </td><td>standard</td><td>0.01196322</td></tr>\n",
       "\t<tr><td>mae </td><td>standard</td><td>0.26523650</td></tr>\n",
       "</tbody>\n",
       "</table>\n"
      ],
      "text/latex": [
       "A tibble: 3 × 3\n",
       "\\begin{tabular}{lll}\n",
       " .metric & .estimator & .estimate\\\\\n",
       " <chr> & <chr> & <dbl>\\\\\n",
       "\\hline\n",
       "\t rmse & standard & 0.30693940\\\\\n",
       "\t rsq  & standard & 0.01196322\\\\\n",
       "\t mae  & standard & 0.26523650\\\\\n",
       "\\end{tabular}\n"
      ],
      "text/markdown": [
       "\n",
       "A tibble: 3 × 3\n",
       "\n",
       "| .metric &lt;chr&gt; | .estimator &lt;chr&gt; | .estimate &lt;dbl&gt; |\n",
       "|---|---|---|\n",
       "| rmse | standard | 0.30693940 |\n",
       "| rsq  | standard | 0.01196322 |\n",
       "| mae  | standard | 0.26523650 |\n",
       "\n"
      ],
      "text/plain": [
       "  .metric .estimator .estimate \n",
       "1 rmse    standard   0.30693940\n",
       "2 rsq     standard   0.01196322\n",
       "3 mae     standard   0.26523650"
      ]
     },
     "metadata": {},
     "output_type": "display_data"
    }
   ],
   "source": [
    "# find k parameter with smallest rmse\n",
    "uk_min <- uk_workflow %>%\n",
    "    filter(.metric == \"rmse\") %>%\n",
    "    arrange(mean) %>% \n",
    "    slice(1) %>%\n",
    "    pull(neighbors)\n",
    "\n",
    "uk_min\n",
    "\n",
    "uk_best_spec <- nearest_neighbor(weight_func = \"rectangular\", neighbors = uk_min) %>%\n",
    "          set_engine(\"kknn\") %>%\n",
    "          set_mode(\"regression\")\n",
    "\n",
    "uk_best_fit <- workflow() %>%\n",
    "          add_recipe(uk_recipe) %>%\n",
    "          add_model(uk_best_spec) %>%\n",
    "          fit(data = uk_train)\n",
    "\n",
    "uk_summary <- uk_best_fit %>%\n",
    "           predict(uk_test) %>%\n",
    "           bind_cols(uk_test) %>%\n",
    "           metrics(truth = PEG, estimate = .pred)\n",
    "uk_summary"
   ]
  },
  {
   "cell_type": "code",
   "execution_count": 9,
   "id": "04894963-7744-4bd5-9a19-8a6e2c340c1a",
   "metadata": {},
   "outputs": [
    {
     "data": {
      "text/html": [
       "<table class=\"dataframe\">\n",
       "<caption>A tibble: 1 × 1</caption>\n",
       "<thead>\n",
       "\t<tr><th scope=col>.pred</th></tr>\n",
       "\t<tr><th scope=col>&lt;dbl&gt;</th></tr>\n",
       "</thead>\n",
       "<tbody>\n",
       "\t<tr><td>0.5649512</td></tr>\n",
       "</tbody>\n",
       "</table>\n"
      ],
      "text/latex": [
       "A tibble: 1 × 1\n",
       "\\begin{tabular}{l}\n",
       " .pred\\\\\n",
       " <dbl>\\\\\n",
       "\\hline\n",
       "\t 0.5649512\\\\\n",
       "\\end{tabular}\n"
      ],
      "text/markdown": [
       "\n",
       "A tibble: 1 × 1\n",
       "\n",
       "| .pred &lt;dbl&gt; |\n",
       "|---|\n",
       "| 0.5649512 |\n",
       "\n"
      ],
      "text/plain": [
       "  .pred    \n",
       "1 0.5649512"
      ]
     },
     "metadata": {},
     "output_type": "display_data"
    },
    {
     "data": {
      "text/html": [
       "<table class=\"dataframe\">\n",
       "<caption>A tibble: 1 × 1</caption>\n",
       "<thead>\n",
       "\t<tr><th scope=col>.pred</th></tr>\n",
       "\t<tr><th scope=col>&lt;dbl&gt;</th></tr>\n",
       "</thead>\n",
       "<tbody>\n",
       "\t<tr><td>0.2653659</td></tr>\n",
       "</tbody>\n",
       "</table>\n"
      ],
      "text/latex": [
       "A tibble: 1 × 1\n",
       "\\begin{tabular}{l}\n",
       " .pred\\\\\n",
       " <dbl>\\\\\n",
       "\\hline\n",
       "\t 0.2653659\\\\\n",
       "\\end{tabular}\n"
      ],
      "text/markdown": [
       "\n",
       "A tibble: 1 × 1\n",
       "\n",
       "| .pred &lt;dbl&gt; |\n",
       "|---|\n",
       "| 0.2653659 |\n",
       "\n"
      ],
      "text/plain": [
       "  .pred    \n",
       "1 0.2653659"
      ]
     },
     "metadata": {},
     "output_type": "display_data"
    },
    {
     "data": {
      "text/html": [
       "<table class=\"dataframe\">\n",
       "<caption>A tibble: 1 × 1</caption>\n",
       "<thead>\n",
       "\t<tr><th scope=col>.pred</th></tr>\n",
       "\t<tr><th scope=col>&lt;dbl&gt;</th></tr>\n",
       "</thead>\n",
       "<tbody>\n",
       "\t<tr><td>0.4460976</td></tr>\n",
       "</tbody>\n",
       "</table>\n"
      ],
      "text/latex": [
       "A tibble: 1 × 1\n",
       "\\begin{tabular}{l}\n",
       " .pred\\\\\n",
       " <dbl>\\\\\n",
       "\\hline\n",
       "\t 0.4460976\\\\\n",
       "\\end{tabular}\n"
      ],
      "text/markdown": [
       "\n",
       "A tibble: 1 × 1\n",
       "\n",
       "| .pred &lt;dbl&gt; |\n",
       "|---|\n",
       "| 0.4460976 |\n",
       "\n"
      ],
      "text/plain": [
       "  .pred    \n",
       "1 0.4460976"
      ]
     },
     "metadata": {},
     "output_type": "display_data"
    }
   ],
   "source": [
    "# predictions\n",
    "new_obv_1 <- tibble(STG = 0.89, SCG = 0.78, STR = 0.91, LPR = 0.12)\n",
    "new_obv_pre_1 <- uk_best_fit %>%\n",
    "           predict(new_obv_1)\n",
    "new_obv_pre_1 #expected to be higher than average\n",
    "\n",
    "\n",
    "new_obv_2 <- tibble(STG = 0.19, SCG = 0.04, STR = 0.21, LPR = 0.89)\n",
    "new_obv_pre_2 <- uk_best_fit %>%\n",
    "           predict(new_obv_2)\n",
    "new_obv_pre_2 #expected to be lower than average\n",
    " \n",
    "\n",
    "new_obv_3 <- tibble(STG = 0.32, SCG = 0.38, STR = 0.47, LPR = 0.50)\n",
    "new_obv_pre_3 <- uk_best_fit %>%\n",
    "           predict(new_obv_3)\n",
    "new_obv_pre_3 #expected to be average"
   ]
  },
  {
   "cell_type": "markdown",
   "id": "86de8f20-ccdc-49be-9304-dadf0779c2ac",
   "metadata": {},
   "source": [
    "## Discussion\n",
    "By using a series of plots comparing the response variable PEG to each of the four predictors (STG, SCG, STR, and LPR) individually, a conclusion that there were no significant relationships in the data was reached. As seen in figures 1 through 4, the even distribution of points across the graphs suggests a correlation of zero for each comparison.\n",
    " \n",
    "Although each of the predictors had no correlation with the response variable (PEG) individually, there may be a relationship between PEG and the four predictors simultaneously that cannot be visualized. This was tested by making and using a KNN regression algorithm to predict new PEG values from several new observations. The directionality of the STG, SCG, STR, and LPR values for the new observations were chosen based on our hypothesis about the relationships between PEG and each of the predictors. The numerical values were chosen in relation to the means of each predictor ($M_{STG}$ = 0.38, $SD_{STG}$ = 0.22, $M_{SCG}$ = 0.36, $SD_{SCG}$ = 0.22, $M_{STR}$ = 0.46, $SD_{SPR}$ = 0.25, $M_{LPR}$ = 0.42, $SD_{LPR}$ = 0.25) as seen in the summary table.\n",
    " \n",
    "Summary of each observation:\n",
    "\n",
    "Observation 1: Above average STG, SCG, and STR values (0.89, 0.78, and 0.91 respectively) and a below average LPR value (0.12) were chosen with the expectation that the KNN regression algorithm will predict a higher-than-average PEG value. Our expectation was weakly supported as the algorithm predicted a PEG value of 0.67, which is 0.80 standard deviations ($z$ = 0.80) from the mean ($M_{PEG}$ = 0.46, $SD_{PEG}$ = 0.26).\n",
    "\n",
    "Observation 2: Below average STG, SCG, and STR values (0.19, 0.04, and 0.21 respectively) and an above average LPR value (0.89) were chosen with the expectation that the KNN regression algorithm will predict a lower-than-average PEG value. Our expectations were once again weakly supported as the algorithm predicted a PEG value of 0.27, which is -0.73 standard deviations ($z$ = -0.73) from the mean ($M_{PEG}$ = 0.46, $SD_{PEG}$ = 0.26).\n",
    "\n",
    "Observation 3: Average STG, SCG, STR, and LPR values (0.32, 0.38, 0.47, and 0.50 respectively) were chosen with the expectation that the KNN regression algorithm will predict a just-average PEG value. Our expectations were supported as the algorithm predicted a PEG value of 0.48, which is only 0.08 standard deviations ($z$ = 0.08) from the mean ($M_{PEG}$ = 0.46, $SD_{PEG}$ = 0.26).\n",
    " \n",
    "Although the results correlate with the hypothesis, the prediction error is high in the KNN regression algorithm as RMSPE indicated a ± 0.23 prediction error. Since the PEG points range from 0.00 to 1.00, this error is detrimental to the accuracy of the values we can predict, deeming it unreliable.\n",
    " \n",
    "A negative linear relationship between PEG and LPR, and a positive linear relationship between PEG and the three predictor variables STG, SCG, and STR individually are expected to be found. As students spend more time studying the goal object materials (STG), related material (STR), or having repetitive exposure to the goal object material (SCG), they will perform better on the object goals exam (PEG). However, they may not perform well on both exams simultaneously. Therefore, if the exam performance of user for the related object is high, then the user may not perform as well on the exam of goal objects, and vice versa.\n",
    " \n",
    "However, as can be seen from figures 1-4, PEG against four predictors individually shows no correlation between any of the comparisons. These observations are completely different from what we expected. This data suggests that no matter how long students study for goal object materials and related material, how many times students repeat the same goal object materials, or how well they perform on the exam about a related object may not correlate with their performance on the goal objects' exam. There may be students who spent a lot of time studying and had repetitive exposure to the goal object material, but still got a non-ideal mark on the exam, while some others seemed to spend little time on the material, but performed well on the =goal object exam. Additionally, there are also students who performed well on both exams, while others who failed both. Hence, there is no correlation between the four predictors and the response variable.\n",
    " \n",
    "This may be because there are many other external factors that also affect exam performance, such as concentration, carefulness, and mentality. If the student has low concentration, they may not be able to focus on the exam for long periods of time, leading to fatigue and mistakes. If students are not careful during the exam, reading the questions carefully, misunderstanding the questions, or making other small mistakes, their grades could also be unsatisfactory. Attitude also plays an important role in exam performance. If students feel too nervous during the exam, they may feel very uncomfortable, shiver, and have no way to perform well on the exam (Machucho, 2018). These are all factors that could affect the performance of the exam but are not mentioned in the data set. Therefore, our data is not comprehensive enough to make the desired observations.\n",
    " \n",
    "From the results of figures 1-4, there were no visible relationships in any of the plots. Therefore, these findings present no impact on answering any future predictive questions regarding one of the four predictors and the response variable. It would be inaccurate to conclude that the PEG value could be predicted if any one of the predictors were changed because there are no strong correlations between PEG and the predictors. The goal of the four plots was to determine if study time or repetition number of object goals and related objects would have the highest influence on exam performance. Therefore, it would be more impactful if one of the plots revealed a strong relationship so individuals could find the optimal study strategy to improve their exam performance.\n",
    " \n",
    "The predictive model involving all four predictors and PEG showed some relationship and matched our expectations. However, the findings had an RMSPE value of ±0.23 and the results should be taken in with little consideration. Given that high STG, SCG, STR values (0.89, 0.78, 0.91 respectively) and low LPR values (0.12) resulted in an above average PEG, students may cautiously conclude that increasing study time and repetition number for goal objects and increasing study time for related objects will improve their exam performance on electrical DC machines. On the other hand, reversing the values by using low STG, SCG, STR values (0.19, 0.04, 0.21, respectively) and high LPR values (0.89) resulted in an expected lower than average PEG value. These findings provided evidence of the weak, yet visible effect of STG, SCG, and STR on exam performance. It is significant to recognize that all three studying strategies must be used to improve exam performance of goal objects. The third, newly created observation consists of intermediate values for all four predictors. After entering the new tibble into the predictive model, it generated an average PEG value which was consistent with our expectations. Although our model supported our predictions, the high prediction error makes it hard to conclude if the prediction model was impactful. Due to the predictive model’s high standard deviation, students should not confidently estimate their PEG value based on their STG, SCG, STR, and LPR.\n",
    " \n",
    "Given the results discussed above, the four variables do not affect PEG in this case. To find out what truly affects PEG, more data should be taken into analysis. For instance, some users may just be good at taking exams, but do not study a lot for them. By adding another predictor that evaluates users’ performance on an unrelated exam that they did not study for will give insight on their exam-taking abilities. The mental and physical status of users can also be taken into consideration. This includes users’ attitudes towards the exam and whether they feel physically comfortable during it. Such data can be collected via a self-report survey after the exam.\n",
    " \n",
    "Additionally, a different sample of users can be examined to see whether different user groups result in similar data and correlation between the variables.The users may also be divided into different age groups and levels of education to observe if the users’ background influences the correlation between the variables. To analyze it, a new categorical column can be added to distinguish users of different backgrounds.\n",
    " \n",
    "Another idea for testing the model is to change the goal object. There exists a possibility that the goal object exam of the electrical DC machines is too difficult or easy, and therefore makes the degree of study to have less influence on the results. If the exam is inherently difficult, then a lot of users may have low scores despite the amount of time and effort spent studying, and vice versa. In this case, goal objects exam can be divided into different levels based on difficulties and observe the correlation between variables in each level. Similar to user background, a new categorical column can be added to analyze this part of the data.\n",
    "\n",
    "Finally, although the individual predictors chosen had no impact on how to improve exam performance, the results may differ for topics other than electrical DC machines. For example, repetition for goal objects may not have a relationship with exam performance of electrical DC machines, but it will have a positive impact on student achievement in biopsychology courses (Janes, 2020)."
   ]
  },
  {
   "cell_type": "markdown",
   "id": "fd9954b1-8bbd-4296-91d3-67489a68ba0d",
   "metadata": {},
   "source": [
    "## Citations\n",
    "Janes, J. L., Dunlosky, J., Rawson, K. A., &amp; Jasnow, A. (2020). Successive relearning improves performance on a high‐stakes exam in a difficult biopsychology course. Applied Cognitive Psychology, 34(5), 1118–1132. https://doi.org/10.1002/acp.3699 \n",
    "\n",
    "Machucho, Megan. “Factors That Affect Students' Test Scores.” Owlcation, Owlcation, 13 May 2018, https://owlcation.com/academia/Factors-That-Affect-Students-Test-Scores\n",
    "\n",
    "Kahraman, H. T., Sagiroglu, S., &amp; Colak, I. (2012, August 21). The development of intuitive knowledge classifier and the modeling of Domain Dependent Data. Knowledge-Based Systems. Retrieved June 11, 2022, from https://www.sciencedirect.com/science/article/abs/pii/S0950705112002225 "
   ]
  }
 ],
 "metadata": {
  "kernelspec": {
   "display_name": "R",
   "language": "R",
   "name": "ir"
  },
  "language_info": {
   "codemirror_mode": "r",
   "file_extension": ".r",
   "mimetype": "text/x-r-source",
   "name": "R",
   "pygments_lexer": "r",
   "version": "4.1.2"
  }
 },
 "nbformat": 4,
 "nbformat_minor": 5
}
