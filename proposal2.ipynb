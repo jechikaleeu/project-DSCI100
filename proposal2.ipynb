{
 "cells": [
  {
   "cell_type": "code",
   "execution_count": null,
   "id": "caaee622-33b2-4988-90bb-fa6cae53176f",
   "metadata": {},
   "outputs": [],
   "source": [
    "#installing packages\n",
    "install.packages(\"tidymodels\", \"readxl\", \"repr\", \"tidyverse\")"
   ]
  },
  {
   "cell_type": "code",
   "execution_count": null,
   "id": "1037a1e2-be8d-4623-beda-77296c008f9b",
   "metadata": {},
   "outputs": [],
   "source": [
    "#libraries\n",
    "library(psych)\n",
    "library(tidyverse)\n",
    "library(repr)\n",
    "library(tidymodels)\n",
    "library(readxl)"
   ]
  },
  {
   "cell_type": "code",
   "execution_count": null,
   "id": "091f7f94-f1c1-455f-825a-8a53bae66f9d",
   "metadata": {},
   "outputs": [],
   "source": [
    "#loading in data\n",
    "uk_data <- read_excel(\"data/user_knowledge_data.xls\", sheet = 2)\n",
    "uk_data <- uk_data %>%\n",
    "    select(STG:UNS)\n",
    "uk_data"
   ]
  },
  {
   "cell_type": "code",
   "execution_count": null,
   "id": "b2fd8641-ee3f-40ea-bc3a-1bd3109a0d51",
   "metadata": {},
   "outputs": [],
   "source": [
    "#splitting data\n",
    "uk_split <- initial_split(uk_data, prop = 0.75, strata = PEG)  #strata is the column you're predicting\n",
    "uk_train <- training(uk_split)   \n",
    "uk_test <- testing(uk_split)\n",
    "\n",
    "uk_train #training set (75%)\n",
    "uk_test #testing set (25%)"
   ]
  }
 ],
 "metadata": {
  "kernelspec": {
   "display_name": "R",
   "language": "R",
   "name": "ir"
  },
  "language_info": {
   "codemirror_mode": "r",
   "file_extension": ".r",
   "mimetype": "text/x-r-source",
   "name": "R",
   "pygments_lexer": "r",
   "version": "4.1.2"
  }
 },
 "nbformat": 4,
 "nbformat_minor": 5
}
